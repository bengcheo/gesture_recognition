{
 "cells": [
  {
   "cell_type": "markdown",
   "metadata": {},
   "source": [
    "# Gesture Recognition\n",
    "In this group project, you are going to build a 3D Conv model that will be able to predict the 5 gestures correctly. Please import the following libraries to get started."
   ]
  },
  {
   "cell_type": "code",
   "execution_count": 1,
   "metadata": {},
   "outputs": [],
   "source": [
    "import numpy as np\n",
    "import os\n",
    "#from scipy.misc import imread, imresize\n",
    "import skimage\n",
    "import datetime\n",
    "import os"
   ]
  },
  {
   "cell_type": "markdown",
   "metadata": {},
   "source": [
    "We set the random seed so that the results don't vary drastically."
   ]
  },
  {
   "cell_type": "code",
   "execution_count": 2,
   "metadata": {},
   "outputs": [
    {
     "name": "stdout",
     "output_type": "stream",
     "text": [
      "Default GPU Device: /device:GPU:0\n"
     ]
    }
   ],
   "source": [
    "np.random.seed(30)\n",
    "import random as rn\n",
    "rn.seed(30)\n",
    "from keras import backend as K\n",
    "import tensorflow as tf\n",
    "\n",
    "if tf.test.gpu_device_name(): \n",
    "    print('Default GPU Device: {}'.format(tf.test.gpu_device_name()))\n",
    "else:\n",
    "    print(\"Please install GPU version of TF\")\n",
    "tf.random.set_seed(30)"
   ]
  },
  {
   "cell_type": "markdown",
   "metadata": {},
   "source": [
    "In this block, you read the folder names for training and validation. You also set the `batch_size` here. Note that you set the batch size in such a way that you are able to use the GPU in full capacity. You keep increasing the batch size until the machine throws an error."
   ]
  },
  {
   "cell_type": "code",
   "execution_count": 3,
   "metadata": {},
   "outputs": [],
   "source": [
    "train_doc = np.random.permutation(open('C:/Users/sebas/Case Study RNN/Project_data/train.csv').readlines())\n",
    "val_doc = np.random.permutation(open('C:/Users/sebas/Case Study RNN/Project_data/val.csv').readlines())\n",
    "batch_size = 32 #experiment with the batch size"
   ]
  },
  {
   "cell_type": "markdown",
   "metadata": {},
   "source": [
    "## Generator\n",
    "This is one of the most important part of the code. The overall structure of the generator has been given. In the generator, you are going to preprocess the images as you have images of 2 different dimensions as well as create a batch of video frames. You have to experiment with some of the parts of the generator function such that you get high accuracy."
   ]
  },
  {
   "cell_type": "code",
   "execution_count": 4,
   "metadata": {},
   "outputs": [],
   "source": [
    "def generator(source_path, folder_list, batch_size):\n",
    "    print( 'Source path = ', source_path, '; batch size =', batch_size)\n",
    "    img_idx = [num for num in range(0,15,1)]\n",
    "    while True:\n",
    "        t = np.random.permutation(folder_list)\n",
    "        num_batches = int(len(t)/batch_size)\n",
    "        for batch in range(num_batches):\n",
    "            batch_data = np.zeros((batch_size,15,120,120,3))\n",
    "            batch_labels = np.zeros((batch_size,5))\n",
    "            for folder in range(batch_size):\n",
    "                imgs = os.listdir(source_path+'/'+ t[folder + (batch*batch_size)].split(';')[0])\n",
    "                for idx,item in enumerate(img_idx):\n",
    "                    image = skimage.io.imread(source_path+'/'+ t[folder + (batch*batch_size)].strip().split(';')[0]+'/'+imgs[item]).astype(np.float32)\n",
    "                    image = skimage.transform.resize(image,(120,120)).astype(np.float32)\n",
    "                    \n",
    "                    batch_data[folder,idx,:,:,0] = image[:,:,0]/255\n",
    "                    batch_data[folder,idx,:,:,1] = image[:,:,1]/255\n",
    "                    batch_data[folder,idx,:,:,2] = image[:,:,2]/255\n",
    "                    \n",
    "                batch_labels[folder, int(t[folder + (batch*batch_size)].strip().split(';')[2])] = 1\n",
    "            yield batch_data, batch_labels\n",
    "\n",
    "        if (len(t)%batch_size) != 0:\n",
    "            batch_data = np.zeros((len(t)%batch_size,15,120,120,3))\n",
    "            batch_labels = np.zeros((len(t)%batch_size,5))\n",
    "            for folder in range(len(t)%batch_size):\n",
    "                imgs = os.listdir(source_path+'/'+ t[folder + (num_batches*batch_size)].split(';')[0])\n",
    "                for idx,item in enumerate(img_idx):\n",
    "                    image = skimage.io.imread(source_path+'/'+ t[folder + (num_batches*batch_size)].strip().split(';')[0]+'/'+imgs[item]).astype(np.float32)\n",
    "                    image = skimage.transform.resize(image,(120,120)).astype(np.float32)\n",
    "\n",
    "                    batch_data[folder,idx,:,:,0] = image[:,:,0]/255\n",
    "                    batch_data[folder,idx,:,:,1] = image[:,:,1]/255\n",
    "                    batch_data[folder,idx,:,:,2] = image[:,:,2]/255\n",
    "\n",
    "                batch_labels[folder, int(t[folder + (num_batches*batch_size)].strip().split(';')[2])] = 1\n",
    "\n",
    "            yield batch_data, batch_labels"
   ]
  },
  {
   "cell_type": "code",
   "execution_count": 5,
   "metadata": {},
   "outputs": [
    {
     "name": "stdout",
     "output_type": "stream",
     "text": [
      "# training sequences = 663\n",
      "# validation sequences = 100\n",
      "# epochs = 15\n"
     ]
    }
   ],
   "source": [
    "curr_dt_time = datetime.datetime.now()\n",
    "train_path = 'C:/Users/sebas/Case Study RNN/Project_data/train'\n",
    "val_path = 'C:/Users/sebas/Case Study RNN/Project_data/val'\n",
    "num_train_sequences = len(train_doc)\n",
    "print('# training sequences =', num_train_sequences)\n",
    "num_val_sequences = len(val_doc)\n",
    "print('# validation sequences =', num_val_sequences)\n",
    "num_epochs = 15\n",
    "print ('# epochs =', num_epochs)"
   ]
  },
  {
   "cell_type": "markdown",
   "metadata": {},
   "source": [
    "## Model\n",
    "Here you make the model using different functionalities that Keras provides. You might want to use `TimeDistributed`, `GRU` and other RNN structures after doing transfer learning. Also remember that the last layer is the softmax. Remember that the network is designed in such a way that the model is able to fit in the memory of the webcam."
   ]
  },
  {
   "cell_type": "code",
   "execution_count": 6,
   "metadata": {},
   "outputs": [],
   "source": [
    "from keras.models import Sequential, Model\n",
    "from keras.layers.recurrent import LSTM\n",
    "from keras.layers import Dense, GRU, Dropout, Flatten, TimeDistributed,Conv2D, Input, Activation, GlobalAveragePooling2D\n",
    "from keras.callbacks import ModelCheckpoint, ReduceLROnPlateau\n",
    "from keras import optimizers\n",
    "from keras.applications.vgg16 import VGG16\n",
    "    \n",
    "base_model = VGG16(include_top=False, weights='imagenet',input_shape=(120, 120 ,3))\n",
    "cnn_out = GlobalAveragePooling2D()(base_model.output)\n",
    "cnn = Model(inputs=base_model.input, outputs=cnn_out)\n",
    "cnn.trainable = False\n",
    "    \n",
    "#for layer in base_model.layers:\n",
    "#    layer.trainable = False\n",
    "        \n",
    "model = Sequential()\n",
    "model.add(TimeDistributed(cnn,input_shape=(15,120,120,3)))  \n",
    "model.add(LSTM(16))\n",
    "model.add(Dense(128, activation = 'relu'))\n",
    "model.add(Dense(5, activation='softmax'))"
   ]
  },
  {
   "cell_type": "markdown",
   "metadata": {},
   "source": [
    "Now that you have written the model, the next step is to `compile` the model. When you print the `summary` of the model, you'll see the total number of parameters you have to train."
   ]
  },
  {
   "cell_type": "code",
   "execution_count": 7,
   "metadata": {},
   "outputs": [
    {
     "name": "stdout",
     "output_type": "stream",
     "text": [
      "Model: \"sequential\"\n",
      "_________________________________________________________________\n",
      "Layer (type)                 Output Shape              Param #   \n",
      "=================================================================\n",
      "time_distributed (TimeDistri (None, 15, 512)           14714688  \n",
      "_________________________________________________________________\n",
      "lstm (LSTM)                  (None, 16)                33856     \n",
      "_________________________________________________________________\n",
      "dense (Dense)                (None, 128)               2176      \n",
      "_________________________________________________________________\n",
      "dense_1 (Dense)              (None, 5)                 645       \n",
      "=================================================================\n",
      "Total params: 14,751,365\n",
      "Trainable params: 36,677\n",
      "Non-trainable params: 14,714,688\n",
      "_________________________________________________________________\n",
      "None\n"
     ]
    }
   ],
   "source": [
    "#sgd = tf.keras.optimizers.SGD(learning_rate=0.001, decay=1e-6, momentum=0.7, nesterov=True)\n",
    "model.compile(optimizer=\"adam\", loss='categorical_crossentropy', metrics=['categorical_accuracy'])\n",
    "print (model.summary())"
   ]
  },
  {
   "cell_type": "markdown",
   "metadata": {},
   "source": [
    "Let us create the `train_generator` and the `val_generator` which will be used in `.fit_generator`."
   ]
  },
  {
   "cell_type": "code",
   "execution_count": 8,
   "metadata": {},
   "outputs": [],
   "source": [
    "train_generator = generator(train_path, train_doc, batch_size)\n",
    "val_generator = generator(val_path, val_doc, batch_size)"
   ]
  },
  {
   "cell_type": "code",
   "execution_count": 9,
   "metadata": {},
   "outputs": [],
   "source": [
    "model_name = 'model_init_conv_lstm' + '_' + str(curr_dt_time).replace(' ','').replace(':','_') + '/'\n",
    "    \n",
    "if not os.path.exists(model_name):\n",
    "    os.mkdir(model_name)\n",
    "        \n",
    "filepath = model_name + 'model-{epoch:05d}-{loss:.5f}-{categorical_accuracy:.5f}-{val_loss:.5f}-{val_categorical_accuracy:.5f}.h5'\n",
    "\n",
    "checkpoint = ModelCheckpoint(filepath, monitor='val_loss', verbose=1, save_best_only= True, save_weights_only= True, mode='auto')\n",
    "\n",
    "LR = ReduceLROnPlateau(monitor='val_loss', factor=0.5, patience=2, verbose=1, mode='min', cooldown=0, min_lr=0.00001)\n",
    "callbacks_list = [checkpoint, LR]"
   ]
  },
  {
   "cell_type": "code",
   "execution_count": 10,
   "metadata": {},
   "outputs": [],
   "source": [
    "if (num_train_sequences%batch_size) == 0:\n",
    "    steps_per_epoch = int(num_train_sequences/batch_size)\n",
    "else:\n",
    "    steps_per_epoch = (num_train_sequences//batch_size) + 1\n",
    "\n",
    "if (num_val_sequences%batch_size) == 0:\n",
    "    validation_steps = int(num_val_sequences/batch_size)\n",
    "else:\n",
    "    validation_steps = (num_val_sequences//batch_size) + 1"
   ]
  },
  {
   "cell_type": "markdown",
   "metadata": {},
   "source": [
    "Let us now fit the model. This will start training the model and with the help of the checkpoints, you'll be able to save the model at the end of each epoch."
   ]
  },
  {
   "cell_type": "code",
   "execution_count": 11,
   "metadata": {},
   "outputs": [
    {
     "name": "stdout",
     "output_type": "stream",
     "text": [
      "Source path =  C:/Users/sebas/Case Study RNN/Project_data/train ; batch size = 32\n",
      "Epoch 1/15\n",
      "21/21 [==============================] - ETA: 0s - loss: 1.5989 - categorical_accuracy: 0.2232Source path =  C:/Users/sebas/Case Study RNN/Project_data/val ; batch size = 32\n",
      "21/21 [==============================] - 118s 5s/step - loss: 1.5989 - categorical_accuracy: 0.2232 - val_loss: 1.5589 - val_categorical_accuracy: 0.3700\n",
      "\n",
      "Epoch 00001: val_loss improved from inf to 1.55888, saving model to model_init_conv_lstm_2022-07-0822_11_55.797506\\model-00001-1.59890-0.22323-1.55888-0.37000.h5\n",
      "Epoch 2/15\n",
      "21/21 [==============================] - 74s 4s/step - loss: 1.5019 - categorical_accuracy: 0.4118 - val_loss: 1.4650 - val_categorical_accuracy: 0.3400\n",
      "\n",
      "Epoch 00002: val_loss improved from 1.55888 to 1.46495, saving model to model_init_conv_lstm_2022-07-0822_11_55.797506\\model-00002-1.50192-0.41176-1.46495-0.34000.h5\n",
      "Epoch 3/15\n",
      "21/21 [==============================] - 75s 4s/step - loss: 1.3305 - categorical_accuracy: 0.4661 - val_loss: 1.2670 - val_categorical_accuracy: 0.4700\n",
      "\n",
      "Epoch 00003: val_loss improved from 1.46495 to 1.26704, saving model to model_init_conv_lstm_2022-07-0822_11_55.797506\\model-00003-1.33048-0.46606-1.26704-0.47000.h5\n",
      "Epoch 4/15\n",
      "21/21 [==============================] - 70s 3s/step - loss: 1.1868 - categorical_accuracy: 0.5370 - val_loss: 1.1301 - val_categorical_accuracy: 0.5600\n",
      "\n",
      "Epoch 00004: val_loss improved from 1.26704 to 1.13014, saving model to model_init_conv_lstm_2022-07-0822_11_55.797506\\model-00004-1.18681-0.53695-1.13014-0.56000.h5\n",
      "Epoch 5/15\n",
      "21/21 [==============================] - 73s 4s/step - loss: 0.9990 - categorical_accuracy: 0.6305 - val_loss: 1.0837 - val_categorical_accuracy: 0.5800\n",
      "\n",
      "Epoch 00005: val_loss improved from 1.13014 to 1.08368, saving model to model_init_conv_lstm_2022-07-0822_11_55.797506\\model-00005-0.99897-0.63047-1.08368-0.58000.h5\n",
      "Epoch 6/15\n",
      "21/21 [==============================] - 73s 4s/step - loss: 0.8695 - categorical_accuracy: 0.6727 - val_loss: 1.0136 - val_categorical_accuracy: 0.6100\n",
      "\n",
      "Epoch 00006: val_loss improved from 1.08368 to 1.01365, saving model to model_init_conv_lstm_2022-07-0822_11_55.797506\\model-00006-0.86954-0.67270-1.01365-0.61000.h5\n",
      "Epoch 7/15\n",
      "21/21 [==============================] - 74s 4s/step - loss: 0.7619 - categorical_accuracy: 0.7134 - val_loss: 1.1607 - val_categorical_accuracy: 0.5600\n",
      "\n",
      "Epoch 00007: val_loss did not improve from 1.01365\n",
      "Epoch 8/15\n",
      "21/21 [==============================] - 70s 3s/step - loss: 0.6378 - categorical_accuracy: 0.7798 - val_loss: 0.9928 - val_categorical_accuracy: 0.6600\n",
      "\n",
      "Epoch 00008: val_loss improved from 1.01365 to 0.99279, saving model to model_init_conv_lstm_2022-07-0822_11_55.797506\\model-00008-0.63775-0.77979-0.99279-0.66000.h5\n",
      "Epoch 9/15\n",
      "21/21 [==============================] - 72s 4s/step - loss: 0.5280 - categorical_accuracy: 0.8265 - val_loss: 1.0578 - val_categorical_accuracy: 0.6500\n",
      "\n",
      "Epoch 00009: val_loss did not improve from 0.99279\n",
      "Epoch 10/15\n",
      "21/21 [==============================] - 73s 4s/step - loss: 0.4700 - categorical_accuracy: 0.8356 - val_loss: 1.2219 - val_categorical_accuracy: 0.5600\n",
      "\n",
      "Epoch 00010: val_loss did not improve from 0.99279\n",
      "\n",
      "Epoch 00010: ReduceLROnPlateau reducing learning rate to 0.0005000000237487257.\n",
      "Epoch 11/15\n",
      "21/21 [==============================] - 77s 4s/step - loss: 0.3610 - categorical_accuracy: 0.8778 - val_loss: 0.7174 - val_categorical_accuracy: 0.7900\n",
      "\n",
      "Epoch 00011: val_loss improved from 0.99279 to 0.71743, saving model to model_init_conv_lstm_2022-07-0822_11_55.797506\\model-00011-0.36100-0.87783-0.71743-0.79000.h5\n",
      "Epoch 12/15\n",
      "21/21 [==============================] - 69s 3s/step - loss: 0.3060 - categorical_accuracy: 0.8944 - val_loss: 1.0326 - val_categorical_accuracy: 0.7100\n",
      "\n",
      "Epoch 00012: val_loss did not improve from 0.71743\n",
      "Epoch 13/15\n",
      "21/21 [==============================] - 71s 4s/step - loss: 0.2611 - categorical_accuracy: 0.9186 - val_loss: 1.0295 - val_categorical_accuracy: 0.6900\n",
      "\n",
      "Epoch 00013: val_loss did not improve from 0.71743\n",
      "\n",
      "Epoch 00013: ReduceLROnPlateau reducing learning rate to 0.0002500000118743628.\n",
      "Epoch 14/15\n",
      "21/21 [==============================] - 73s 4s/step - loss: 0.2256 - categorical_accuracy: 0.9367 - val_loss: 1.0435 - val_categorical_accuracy: 0.6700\n",
      "\n",
      "Epoch 00014: val_loss did not improve from 0.71743\n",
      "Epoch 15/15\n",
      "21/21 [==============================] - 73s 4s/step - loss: 0.2083 - categorical_accuracy: 0.9336 - val_loss: 1.2117 - val_categorical_accuracy: 0.6600\n",
      "\n",
      "Epoch 00015: val_loss did not improve from 0.71743\n",
      "\n",
      "Epoch 00015: ReduceLROnPlateau reducing learning rate to 0.0001250000059371814.\n"
     ]
    },
    {
     "data": {
      "text/plain": [
       "<keras.callbacks.History at 0x1e316718a60>"
      ]
     },
     "execution_count": 11,
     "metadata": {},
     "output_type": "execute_result"
    }
   ],
   "source": [
    "model.fit(train_generator, steps_per_epoch=steps_per_epoch, epochs=num_epochs, verbose=1, \n",
    "                    callbacks=callbacks_list, validation_data=val_generator, \n",
    "                    validation_steps=validation_steps, \n",
    "                    class_weight=None, \n",
    "                    workers=1, \n",
    "                    initial_epoch=0)"
   ]
  },
  {
   "cell_type": "code",
   "execution_count": null,
   "metadata": {},
   "outputs": [],
   "source": []
  }
 ],
 "metadata": {
  "kernelspec": {
   "display_name": "Python 3 (ipykernel)",
   "language": "python",
   "name": "python3"
  },
  "language_info": {
   "codemirror_mode": {
    "name": "ipython",
    "version": 3
   },
   "file_extension": ".py",
   "mimetype": "text/x-python",
   "name": "python",
   "nbconvert_exporter": "python",
   "pygments_lexer": "ipython3",
   "version": "3.9.12"
  }
 },
 "nbformat": 4,
 "nbformat_minor": 2
}
