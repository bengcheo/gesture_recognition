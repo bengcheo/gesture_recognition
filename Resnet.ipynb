{
 "cells": [
  {
   "cell_type": "markdown",
   "metadata": {},
   "source": [
    "# Gesture Recognition\n",
    "In this group project, you are going to build a 3D Conv model that will be able to predict the 5 gestures correctly. Please import the following libraries to get started."
   ]
  },
  {
   "cell_type": "code",
   "execution_count": 1,
   "metadata": {},
   "outputs": [],
   "source": [
    "import numpy as np\n",
    "import os\n",
    "#from scipy.misc import imread, imresize\n",
    "import skimage\n",
    "import datetime\n",
    "import os"
   ]
  },
  {
   "cell_type": "markdown",
   "metadata": {},
   "source": [
    "We set the random seed so that the results don't vary drastically."
   ]
  },
  {
   "cell_type": "code",
   "execution_count": 2,
   "metadata": {},
   "outputs": [
    {
     "name": "stdout",
     "output_type": "stream",
     "text": [
      "Default GPU Device: /device:GPU:0\n"
     ]
    }
   ],
   "source": [
    "np.random.seed(30)\n",
    "import random as rn\n",
    "rn.seed(30)\n",
    "from keras import backend as K\n",
    "import tensorflow as tf\n",
    "\n",
    "if tf.test.gpu_device_name(): \n",
    "    print('Default GPU Device: {}'.format(tf.test.gpu_device_name()))\n",
    "else:\n",
    "    print(\"Please install GPU version of TF\")\n",
    "tf.random.set_seed(30)"
   ]
  },
  {
   "cell_type": "markdown",
   "metadata": {},
   "source": [
    "In this block, you read the folder names for training and validation. You also set the `batch_size` here. Note that you set the batch size in such a way that you are able to use the GPU in full capacity. You keep increasing the batch size until the machine throws an error."
   ]
  },
  {
   "cell_type": "code",
   "execution_count": 3,
   "metadata": {},
   "outputs": [],
   "source": [
    "train_doc = np.random.permutation(open('C:/Users/sebas/Case Study RNN/Project_data/train.csv').readlines())\n",
    "val_doc = np.random.permutation(open('C:/Users/sebas/Case Study RNN/Project_data/val.csv').readlines())\n",
    "batch_size = 32 #experiment with the batch size"
   ]
  },
  {
   "cell_type": "markdown",
   "metadata": {},
   "source": [
    "## Generator\n",
    "This is one of the most important part of the code. The overall structure of the generator has been given. In the generator, you are going to preprocess the images as you have images of 2 different dimensions as well as create a batch of video frames. You have to experiment with some of the parts of the generator function such that you get high accuracy."
   ]
  },
  {
   "cell_type": "code",
   "execution_count": 4,
   "metadata": {},
   "outputs": [],
   "source": [
    "def generator(source_path, folder_list, batch_size):\n",
    "    print( 'Source path = ', source_path, '; batch size =', batch_size)\n",
    "    img_idx = [num for num in range(0,15,1)]\n",
    "    while True:\n",
    "        t = np.random.permutation(folder_list)\n",
    "        num_batches = int(len(t)/batch_size)\n",
    "        for batch in range(num_batches):\n",
    "            batch_data = np.zeros((batch_size,15,120,120,3))\n",
    "            batch_labels = np.zeros((batch_size,5))\n",
    "            for folder in range(batch_size):\n",
    "                imgs = os.listdir(source_path+'/'+ t[folder + (batch*batch_size)].split(';')[0])\n",
    "                for idx,item in enumerate(img_idx):\n",
    "                    image = skimage.io.imread(source_path+'/'+ t[folder + (batch*batch_size)].strip().split(';')[0]+'/'+imgs[item]).astype(np.float32)\n",
    "                    image = skimage.transform.resize(image,(120,120)).astype(np.float32)\n",
    "                    \n",
    "                    batch_data[folder,idx,:,:,0] = image[:,:,0]/255\n",
    "                    batch_data[folder,idx,:,:,1] = image[:,:,1]/255\n",
    "                    batch_data[folder,idx,:,:,2] = image[:,:,2]/255\n",
    "                    \n",
    "                batch_labels[folder, int(t[folder + (batch*batch_size)].strip().split(';')[2])] = 1\n",
    "            yield batch_data, batch_labels\n",
    "\n",
    "        if (len(t)%batch_size) != 0:\n",
    "            batch_data = np.zeros((len(t)%batch_size,15,120,120,3))\n",
    "            batch_labels = np.zeros((len(t)%batch_size,5))\n",
    "            for folder in range(len(t)%batch_size):\n",
    "                imgs = os.listdir(source_path+'/'+ t[folder + (num_batches*batch_size)].split(';')[0])\n",
    "                for idx,item in enumerate(img_idx):\n",
    "                    image = skimage.io.imread(source_path+'/'+ t[folder + (num_batches*batch_size)].strip().split(';')[0]+'/'+imgs[item]).astype(np.float32)\n",
    "                    image = skimage.transform.resize(image,(120,120)).astype(np.float32)\n",
    "\n",
    "                    batch_data[folder,idx,:,:,0] = image[:,:,0]/255\n",
    "                    batch_data[folder,idx,:,:,1] = image[:,:,1]/255\n",
    "                    batch_data[folder,idx,:,:,2] = image[:,:,2]/255\n",
    "\n",
    "                batch_labels[folder, int(t[folder + (num_batches*batch_size)].strip().split(';')[2])] = 1\n",
    "\n",
    "            yield batch_data, batch_labels"
   ]
  },
  {
   "cell_type": "code",
   "execution_count": 5,
   "metadata": {},
   "outputs": [
    {
     "name": "stdout",
     "output_type": "stream",
     "text": [
      "# training sequences = 663\n",
      "# validation sequences = 100\n",
      "# epochs = 30\n"
     ]
    }
   ],
   "source": [
    "curr_dt_time = datetime.datetime.now()\n",
    "train_path = 'C:/Users/sebas/Case Study RNN/Project_data/train'\n",
    "val_path = 'C:/Users/sebas/Case Study RNN/Project_data/val'\n",
    "num_train_sequences = len(train_doc)\n",
    "print('# training sequences =', num_train_sequences)\n",
    "num_val_sequences = len(val_doc)\n",
    "print('# validation sequences =', num_val_sequences)\n",
    "num_epochs = 30\n",
    "print ('# epochs =', num_epochs)"
   ]
  },
  {
   "cell_type": "markdown",
   "metadata": {},
   "source": [
    "## Model\n",
    "Here you make the model using different functionalities that Keras provides. You might want to use `TimeDistributed`, `GRU` and other RNN structures after doing transfer learning. Also remember that the last layer is the softmax. Remember that the network is designed in such a way that the model is able to fit in the memory of the webcam."
   ]
  },
  {
   "cell_type": "code",
   "execution_count": 9,
   "metadata": {},
   "outputs": [],
   "source": [
    "from keras.models import Sequential, Model\n",
    "from keras.layers import Dense, GRU, Dropout, Flatten, TimeDistributed,Conv2D, Input, Activation, GlobalAveragePooling2D\n",
    "from keras.callbacks import ModelCheckpoint, ReduceLROnPlateau\n",
    "from keras import optimizers\n",
    "from tensorflow.keras.applications.resnet50 import ResNet50\n",
    "    \n",
    "base_model = ResNet50(include_top=False, weights='imagenet',input_shape=(120, 120 ,3))\n",
    "for layer in base_model.layers:\n",
    "    layer.trainable=False\n",
    "cnn =Sequential([base_model])\n",
    "cnn.add(Conv2D(64,(2,2),strides=(1,1)))\n",
    "cnn.add(Conv2D(16,(3,3),strides=(1,1)))\n",
    "cnn.add(Flatten()) \n",
    "    \n",
    "#for layer in base_model.layers:\n",
    "#    layer.trainable = False\n",
    "        \n",
    "model = Sequential()\n",
    "model.add(TimeDistributed(cnn,input_shape=(15,120,120,3)))  \n",
    "model.add(GRU(16,input_shape=(None, 15 , 16),return_sequences=True))\n",
    "model.add(GRU(8))\n",
    "model.add(Dense(5,activation='softmax'))"
   ]
  },
  {
   "cell_type": "markdown",
   "metadata": {},
   "source": [
    "Now that you have written the model, the next step is to `compile` the model. When you print the `summary` of the model, you'll see the total number of parameters you have to train."
   ]
  },
  {
   "cell_type": "code",
   "execution_count": 10,
   "metadata": {},
   "outputs": [
    {
     "name": "stdout",
     "output_type": "stream",
     "text": [
      "Model: \"sequential_2\"\n",
      "_________________________________________________________________\n",
      "Layer (type)                 Output Shape              Param #   \n",
      "=================================================================\n",
      "time_distributed (TimeDistri (None, 15, 16)            24121296  \n",
      "_________________________________________________________________\n",
      "gru (GRU)                    (None, 15, 16)            1632      \n",
      "_________________________________________________________________\n",
      "gru_1 (GRU)                  (None, 8)                 624       \n",
      "_________________________________________________________________\n",
      "dense (Dense)                (None, 5)                 45        \n",
      "=================================================================\n",
      "Total params: 24,123,597\n",
      "Trainable params: 535,885\n",
      "Non-trainable params: 23,587,712\n",
      "_________________________________________________________________\n",
      "None\n"
     ]
    }
   ],
   "source": [
    "#sgd = tf.keras.optimizers.SGD(learning_rate=0.001, decay=1e-6, momentum=0.7, nesterov=True)\n",
    "model.compile(optimizer=\"adam\", loss='categorical_crossentropy', metrics=['categorical_accuracy'])\n",
    "print (model.summary())"
   ]
  },
  {
   "cell_type": "markdown",
   "metadata": {},
   "source": [
    "Let us create the `train_generator` and the `val_generator` which will be used in `.fit_generator`."
   ]
  },
  {
   "cell_type": "code",
   "execution_count": 11,
   "metadata": {},
   "outputs": [],
   "source": [
    "train_generator = generator(train_path, train_doc, batch_size)\n",
    "val_generator = generator(val_path, val_doc, batch_size)"
   ]
  },
  {
   "cell_type": "code",
   "execution_count": 21,
   "metadata": {},
   "outputs": [],
   "source": [
    "model_name = 'model_init_conv_lstm' + '_' + str(curr_dt_time).replace(' ','').replace(':','_') + '/'\n",
    "    \n",
    "if not os.path.exists(model_name):\n",
    "    os.mkdir(model_name)\n",
    "        \n",
    "filepath = model_name + 'model-{epoch:05d}-{loss:.5f}-{categorical_accuracy:.5f}-{val_loss:.5f}-{val_categorical_accuracy:.5f}.h5'\n",
    "\n",
    "checkpoint = ModelCheckpoint(filepath, monitor='val_loss', verbose=1, save_best_only=False, save_weights_only=False, mode='auto', save_freq=\"epoch\")\n",
    "\n",
    "LR = ReduceLROnPlateau(monitor='val_loss', factor=0.5, patience=2, verbose=1, mode='min', cooldown=0, min_lr=0.00001)\n",
    "callbacks_list = [checkpoint, LR]"
   ]
  },
  {
   "cell_type": "code",
   "execution_count": 22,
   "metadata": {},
   "outputs": [],
   "source": [
    "if (num_train_sequences%batch_size) == 0:\n",
    "    steps_per_epoch = int(num_train_sequences/batch_size)\n",
    "else:\n",
    "    steps_per_epoch = (num_train_sequences//batch_size) + 1\n",
    "\n",
    "if (num_val_sequences%batch_size) == 0:\n",
    "    validation_steps = int(num_val_sequences/batch_size)\n",
    "else:\n",
    "    validation_steps = (num_val_sequences//batch_size) + 1"
   ]
  },
  {
   "cell_type": "markdown",
   "metadata": {},
   "source": [
    "Let us now fit the model. This will start training the model and with the help of the checkpoints, you'll be able to save the model at the end of each epoch."
   ]
  },
  {
   "cell_type": "code",
   "execution_count": 23,
   "metadata": {},
   "outputs": [
    {
     "name": "stdout",
     "output_type": "stream",
     "text": [
      "Epoch 1/30\n",
      "21/21 [==============================] - 72s 4s/step - loss: 1.1790 - categorical_accuracy: 0.5611 - val_loss: 1.3760 - val_categorical_accuracy: 0.3700\n",
      "\n",
      "Epoch 00001: saving model to model_init_conv_lstm_2022-07-0819_27_16.528746\\model-00001-1.17895-0.56109-1.37596-0.37000.h5\n",
      "Epoch 2/30\n",
      "21/21 [==============================] - 76s 4s/step - loss: 1.1457 - categorical_accuracy: 0.6063 - val_loss: 1.3082 - val_categorical_accuracy: 0.4200\n",
      "\n",
      "Epoch 00002: saving model to model_init_conv_lstm_2022-07-0819_27_16.528746\\model-00002-1.14574-0.60633-1.30822-0.42000.h5\n",
      "Epoch 3/30\n",
      "21/21 [==============================] - 73s 4s/step - loss: 1.1457 - categorical_accuracy: 0.5988 - val_loss: 1.3233 - val_categorical_accuracy: 0.3900\n",
      "\n",
      "Epoch 00003: saving model to model_init_conv_lstm_2022-07-0819_27_16.528746\\model-00003-1.14568-0.59879-1.32327-0.39000.h5\n",
      "Epoch 4/30\n",
      "21/21 [==============================] - 80s 4s/step - loss: 1.1699 - categorical_accuracy: 0.5762 - val_loss: 1.2948 - val_categorical_accuracy: 0.4000\n",
      "\n",
      "Epoch 00004: saving model to model_init_conv_lstm_2022-07-0819_27_16.528746\\model-00004-1.16992-0.57617-1.29477-0.40000.h5\n",
      "Epoch 5/30\n",
      "21/21 [==============================] - 79s 4s/step - loss: 1.1661 - categorical_accuracy: 0.5701 - val_loss: 1.3579 - val_categorical_accuracy: 0.3800\n",
      "\n",
      "Epoch 00005: saving model to model_init_conv_lstm_2022-07-0819_27_16.528746\\model-00005-1.16613-0.57014-1.35788-0.38000.h5\n",
      "Epoch 6/30\n",
      "21/21 [==============================] - 79s 4s/step - loss: 1.1314 - categorical_accuracy: 0.5973 - val_loss: 1.3248 - val_categorical_accuracy: 0.4200\n",
      "\n",
      "Epoch 00006: saving model to model_init_conv_lstm_2022-07-0819_27_16.528746\\model-00006-1.13144-0.59729-1.32480-0.42000.h5\n",
      "\n",
      "Epoch 00006: ReduceLROnPlateau reducing learning rate to 1e-05.\n",
      "Epoch 7/30\n",
      "21/21 [==============================] - 76s 4s/step - loss: 1.1509 - categorical_accuracy: 0.6154 - val_loss: 1.3226 - val_categorical_accuracy: 0.4100\n",
      "\n",
      "Epoch 00007: saving model to model_init_conv_lstm_2022-07-0819_27_16.528746\\model-00007-1.15095-0.61538-1.32261-0.41000.h5\n",
      "Epoch 8/30\n",
      "21/21 [==============================] - 72s 4s/step - loss: 1.1655 - categorical_accuracy: 0.5626 - val_loss: 1.2925 - val_categorical_accuracy: 0.4300\n",
      "\n",
      "Epoch 00008: saving model to model_init_conv_lstm_2022-07-0819_27_16.528746\\model-00008-1.16554-0.56259-1.29254-0.43000.h5\n",
      "Epoch 9/30\n",
      "21/21 [==============================] - 72s 4s/step - loss: 1.1416 - categorical_accuracy: 0.6048 - val_loss: 1.2853 - val_categorical_accuracy: 0.4200\n",
      "\n",
      "Epoch 00009: saving model to model_init_conv_lstm_2022-07-0819_27_16.528746\\model-00009-1.14156-0.60483-1.28531-0.42000.h5\n",
      "Epoch 10/30\n",
      "21/21 [==============================] - 70s 3s/step - loss: 1.1604 - categorical_accuracy: 0.5837 - val_loss: 1.3370 - val_categorical_accuracy: 0.4200\n",
      "\n",
      "Epoch 00010: saving model to model_init_conv_lstm_2022-07-0819_27_16.528746\\model-00010-1.16040-0.58371-1.33703-0.42000.h5\n",
      "Epoch 11/30\n",
      "21/21 [==============================] - 72s 4s/step - loss: 1.1535 - categorical_accuracy: 0.5928 - val_loss: 1.3228 - val_categorical_accuracy: 0.4100\n",
      "\n",
      "Epoch 00011: saving model to model_init_conv_lstm_2022-07-0819_27_16.528746\\model-00011-1.15347-0.59276-1.32282-0.41000.h5\n",
      "Epoch 12/30\n",
      "21/21 [==============================] - 71s 4s/step - loss: 1.1421 - categorical_accuracy: 0.5882 - val_loss: 1.3260 - val_categorical_accuracy: 0.3700\n",
      "\n",
      "Epoch 00012: saving model to model_init_conv_lstm_2022-07-0819_27_16.528746\\model-00012-1.14215-0.58824-1.32600-0.37000.h5\n",
      "Epoch 13/30\n",
      "21/21 [==============================] - 73s 4s/step - loss: 1.1623 - categorical_accuracy: 0.5958 - val_loss: 1.3565 - val_categorical_accuracy: 0.3800\n",
      "\n",
      "Epoch 00013: saving model to model_init_conv_lstm_2022-07-0819_27_16.528746\\model-00013-1.16231-0.59578-1.35650-0.38000.h5\n",
      "Epoch 14/30\n",
      "21/21 [==============================] - 67s 3s/step - loss: 1.1418 - categorical_accuracy: 0.5867 - val_loss: 1.2916 - val_categorical_accuracy: 0.4100\n",
      "\n",
      "Epoch 00014: saving model to model_init_conv_lstm_2022-07-0819_27_16.528746\\model-00014-1.14183-0.58673-1.29165-0.41000.h5\n",
      "Epoch 15/30\n",
      "21/21 [==============================] - 73s 4s/step - loss: 1.1567 - categorical_accuracy: 0.5867 - val_loss: 1.3223 - val_categorical_accuracy: 0.4100\n",
      "\n",
      "Epoch 00015: saving model to model_init_conv_lstm_2022-07-0819_27_16.528746\\model-00015-1.15669-0.58673-1.32232-0.41000.h5\n",
      "Epoch 16/30\n",
      "21/21 [==============================] - 73s 4s/step - loss: 1.1496 - categorical_accuracy: 0.5837 - val_loss: 1.3038 - val_categorical_accuracy: 0.4000\n",
      "\n",
      "Epoch 00016: saving model to model_init_conv_lstm_2022-07-0819_27_16.528746\\model-00016-1.14964-0.58371-1.30378-0.40000.h5\n",
      "Epoch 17/30\n",
      "21/21 [==============================] - 71s 4s/step - loss: 1.1451 - categorical_accuracy: 0.6003 - val_loss: 1.2953 - val_categorical_accuracy: 0.4600\n",
      "\n",
      "Epoch 00017: saving model to model_init_conv_lstm_2022-07-0819_27_16.528746\\model-00017-1.14510-0.60030-1.29532-0.46000.h5\n",
      "Epoch 18/30\n",
      "21/21 [==============================] - 69s 3s/step - loss: 1.1436 - categorical_accuracy: 0.6018 - val_loss: 1.3099 - val_categorical_accuracy: 0.4300\n",
      "\n",
      "Epoch 00018: saving model to model_init_conv_lstm_2022-07-0819_27_16.528746\\model-00018-1.14358-0.60181-1.30986-0.43000.h5\n",
      "Epoch 19/30\n",
      "21/21 [==============================] - 72s 4s/step - loss: 1.1490 - categorical_accuracy: 0.5777 - val_loss: 1.3210 - val_categorical_accuracy: 0.4200\n",
      "\n",
      "Epoch 00019: saving model to model_init_conv_lstm_2022-07-0819_27_16.528746\\model-00019-1.14902-0.57768-1.32101-0.42000.h5\n",
      "Epoch 20/30\n",
      "21/21 [==============================] - 71s 4s/step - loss: 1.1362 - categorical_accuracy: 0.6063 - val_loss: 1.3004 - val_categorical_accuracy: 0.4300\n",
      "\n",
      "Epoch 00020: saving model to model_init_conv_lstm_2022-07-0819_27_16.528746\\model-00020-1.13621-0.60633-1.30037-0.43000.h5\n",
      "Epoch 21/30\n",
      "21/21 [==============================] - 71s 4s/step - loss: 1.1538 - categorical_accuracy: 0.5928 - val_loss: 1.3137 - val_categorical_accuracy: 0.3900\n",
      "\n",
      "Epoch 00021: saving model to model_init_conv_lstm_2022-07-0819_27_16.528746\\model-00021-1.15384-0.59276-1.31367-0.39000.h5\n",
      "Epoch 22/30\n",
      "21/21 [==============================] - 70s 3s/step - loss: 1.1512 - categorical_accuracy: 0.5822 - val_loss: 1.3299 - val_categorical_accuracy: 0.4200\n",
      "\n",
      "Epoch 00022: saving model to model_init_conv_lstm_2022-07-0819_27_16.528746\\model-00022-1.15123-0.58220-1.32986-0.42000.h5\n",
      "Epoch 23/30\n",
      "21/21 [==============================] - 71s 4s/step - loss: 1.1520 - categorical_accuracy: 0.5837 - val_loss: 1.3188 - val_categorical_accuracy: 0.4300\n",
      "\n",
      "Epoch 00023: saving model to model_init_conv_lstm_2022-07-0819_27_16.528746\\model-00023-1.15199-0.58371-1.31877-0.43000.h5\n",
      "Epoch 24/30\n",
      "21/21 [==============================] - 72s 4s/step - loss: 1.1322 - categorical_accuracy: 0.6139 - val_loss: 1.3461 - val_categorical_accuracy: 0.4100\n",
      "\n",
      "Epoch 00024: saving model to model_init_conv_lstm_2022-07-0819_27_16.528746\\model-00024-1.13220-0.61388-1.34610-0.41000.h5\n",
      "Epoch 25/30\n",
      "21/21 [==============================] - 71s 4s/step - loss: 1.1513 - categorical_accuracy: 0.6003 - val_loss: 1.3340 - val_categorical_accuracy: 0.4200\n",
      "\n",
      "Epoch 00025: saving model to model_init_conv_lstm_2022-07-0819_27_16.528746\\model-00025-1.15130-0.60030-1.33403-0.42000.h5\n",
      "Epoch 26/30\n",
      "21/21 [==============================] - 69s 3s/step - loss: 1.1429 - categorical_accuracy: 0.5943 - val_loss: 1.3106 - val_categorical_accuracy: 0.4200\n",
      "\n",
      "Epoch 00026: saving model to model_init_conv_lstm_2022-07-0819_27_16.528746\\model-00026-1.14291-0.59427-1.31056-0.42000.h5\n",
      "Epoch 27/30\n",
      "21/21 [==============================] - 72s 4s/step - loss: 1.1451 - categorical_accuracy: 0.5867 - val_loss: 1.3183 - val_categorical_accuracy: 0.4500\n",
      "\n",
      "Epoch 00027: saving model to model_init_conv_lstm_2022-07-0819_27_16.528746\\model-00027-1.14506-0.58673-1.31832-0.45000.h5\n",
      "Epoch 28/30\n",
      "21/21 [==============================] - 71s 4s/step - loss: 1.1439 - categorical_accuracy: 0.5958 - val_loss: 1.3502 - val_categorical_accuracy: 0.4500\n",
      "\n",
      "Epoch 00028: saving model to model_init_conv_lstm_2022-07-0819_27_16.528746\\model-00028-1.14385-0.59578-1.35022-0.45000.h5\n",
      "Epoch 29/30\n"
     ]
    },
    {
     "name": "stdout",
     "output_type": "stream",
     "text": [
      "21/21 [==============================] - 72s 4s/step - loss: 1.1460 - categorical_accuracy: 0.6003 - val_loss: 1.3232 - val_categorical_accuracy: 0.4000\n",
      "\n",
      "Epoch 00029: saving model to model_init_conv_lstm_2022-07-0819_27_16.528746\\model-00029-1.14596-0.60030-1.32320-0.40000.h5\n",
      "Epoch 30/30\n",
      "21/21 [==============================] - 69s 3s/step - loss: 1.1365 - categorical_accuracy: 0.6018 - val_loss: 1.3382 - val_categorical_accuracy: 0.4300\n",
      "\n",
      "Epoch 00030: saving model to model_init_conv_lstm_2022-07-0819_27_16.528746\\model-00030-1.13650-0.60181-1.33823-0.43000.h5\n"
     ]
    },
    {
     "data": {
      "text/plain": [
       "<keras.callbacks.History at 0x1441cec7730>"
      ]
     },
     "execution_count": 23,
     "metadata": {},
     "output_type": "execute_result"
    }
   ],
   "source": [
    "model.fit(train_generator, steps_per_epoch=steps_per_epoch, epochs=num_epochs, verbose=1, \n",
    "                    callbacks=callbacks_list, validation_data=val_generator, \n",
    "                    validation_steps=validation_steps, \n",
    "                    class_weight=None, \n",
    "                    workers=1, \n",
    "                    initial_epoch=0)"
   ]
  },
  {
   "cell_type": "code",
   "execution_count": null,
   "metadata": {},
   "outputs": [],
   "source": []
  }
 ],
 "metadata": {
  "kernelspec": {
   "display_name": "Python 3 (ipykernel)",
   "language": "python",
   "name": "python3"
  },
  "language_info": {
   "codemirror_mode": {
    "name": "ipython",
    "version": 3
   },
   "file_extension": ".py",
   "mimetype": "text/x-python",
   "name": "python",
   "nbconvert_exporter": "python",
   "pygments_lexer": "ipython3",
   "version": "3.9.12"
  }
 },
 "nbformat": 4,
 "nbformat_minor": 2
}
