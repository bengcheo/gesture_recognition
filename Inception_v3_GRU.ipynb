{
 "cells": [
  {
   "cell_type": "markdown",
   "metadata": {},
   "source": [
    "# Gesture Recognition\n",
    "In this group project, you are going to build a 3D Conv model that will be able to predict the 5 gestures correctly. Please import the following libraries to get started."
   ]
  },
  {
   "cell_type": "code",
   "execution_count": 1,
   "metadata": {},
   "outputs": [],
   "source": [
    "import numpy as np\n",
    "import os\n",
    "#from scipy.misc import imread, imresize\n",
    "import skimage\n",
    "import datetime\n",
    "import os"
   ]
  },
  {
   "cell_type": "markdown",
   "metadata": {},
   "source": [
    "We set the random seed so that the results don't vary drastically."
   ]
  },
  {
   "cell_type": "code",
   "execution_count": 2,
   "metadata": {},
   "outputs": [
    {
     "name": "stdout",
     "output_type": "stream",
     "text": [
      "Default GPU Device: /device:GPU:0\n"
     ]
    }
   ],
   "source": [
    "np.random.seed(30)\n",
    "import random as rn\n",
    "rn.seed(30)\n",
    "from keras import backend as K\n",
    "import tensorflow as tf\n",
    "\n",
    "if tf.test.gpu_device_name(): \n",
    "    print('Default GPU Device: {}'.format(tf.test.gpu_device_name()))\n",
    "else:\n",
    "    print(\"Please install GPU version of TF\")\n",
    "tf.random.set_seed(30)"
   ]
  },
  {
   "cell_type": "markdown",
   "metadata": {},
   "source": [
    "In this block, you read the folder names for training and validation. You also set the `batch_size` here. Note that you set the batch size in such a way that you are able to use the GPU in full capacity. You keep increasing the batch size until the machine throws an error."
   ]
  },
  {
   "cell_type": "code",
   "execution_count": 3,
   "metadata": {},
   "outputs": [],
   "source": [
    "train_doc = np.random.permutation(open('C:/Users/sebas/Case Study RNN/Project_data/train.csv').readlines())\n",
    "val_doc = np.random.permutation(open('C:/Users/sebas/Case Study RNN/Project_data/val.csv').readlines())\n",
    "batch_size = 8 #experiment with the batch size"
   ]
  },
  {
   "cell_type": "markdown",
   "metadata": {},
   "source": [
    "## Generator\n",
    "This is one of the most important part of the code. The overall structure of the generator has been given. In the generator, you are going to preprocess the images as you have images of 2 different dimensions as well as create a batch of video frames. You have to experiment with some of the parts of the generator function such that you get high accuracy."
   ]
  },
  {
   "cell_type": "code",
   "execution_count": 4,
   "metadata": {},
   "outputs": [],
   "source": [
    "def generator(source_path, folder_list, batch_size):\n",
    "    print( 'Source path = ', source_path, '; batch size =', batch_size)\n",
    "    img_idx = [num for num in range(0,15,1)]\n",
    "    while True:\n",
    "        t = np.random.permutation(folder_list)\n",
    "        num_batches = int(len(t)/batch_size)\n",
    "        for batch in range(num_batches):\n",
    "            batch_data = np.zeros((batch_size,15,120,120,3))\n",
    "            batch_labels = np.zeros((batch_size,5))\n",
    "            for folder in range(batch_size):\n",
    "                imgs = os.listdir(source_path+'/'+ t[folder + (batch*batch_size)].split(';')[0])\n",
    "                for idx,item in enumerate(img_idx):\n",
    "                    image = skimage.io.imread(source_path+'/'+ t[folder + (batch*batch_size)].strip().split(';')[0]+'/'+imgs[item]).astype(np.float32)\n",
    "                    image = skimage.transform.resize(image,(120,120)).astype(np.float32)\n",
    "                    \n",
    "                    batch_data[folder,idx,:,:,0] = image[:,:,0]/255\n",
    "                    batch_data[folder,idx,:,:,1] = image[:,:,1]/255\n",
    "                    batch_data[folder,idx,:,:,2] = image[:,:,2]/255\n",
    "                    \n",
    "                batch_labels[folder, int(t[folder + (batch*batch_size)].strip().split(';')[2])] = 1\n",
    "            yield batch_data, batch_labels\n",
    "\n",
    "        if (len(t)%batch_size) != 0:\n",
    "            batch_data = np.zeros((len(t)%batch_size,15,120,120,3))\n",
    "            batch_labels = np.zeros((len(t)%batch_size,5))\n",
    "            for folder in range(len(t)%batch_size):\n",
    "                imgs = os.listdir(source_path+'/'+ t[folder + (num_batches*batch_size)].split(';')[0])\n",
    "                for idx,item in enumerate(img_idx):\n",
    "                    image = skimage.io.imread(source_path+'/'+ t[folder + (num_batches*batch_size)].strip().split(';')[0]+'/'+imgs[item]).astype(np.float32)\n",
    "                    image = skimage.transform.resize(image,(120,120)).astype(np.float32)\n",
    "\n",
    "                    batch_data[folder,idx,:,:,0] = image[:,:,0]/255\n",
    "                    batch_data[folder,idx,:,:,1] = image[:,:,1]/255\n",
    "                    batch_data[folder,idx,:,:,2] = image[:,:,2]/255\n",
    "\n",
    "                batch_labels[folder, int(t[folder + (num_batches*batch_size)].strip().split(';')[2])] = 1\n",
    "\n",
    "            yield batch_data, batch_labels"
   ]
  },
  {
   "cell_type": "code",
   "execution_count": 6,
   "metadata": {},
   "outputs": [
    {
     "name": "stdout",
     "output_type": "stream",
     "text": [
      "# training sequences = 663\n",
      "# validation sequences = 100\n",
      "# epochs = 20\n"
     ]
    }
   ],
   "source": [
    "curr_dt_time = datetime.datetime.now()\n",
    "train_path = 'C:/Users/sebas/Case Study RNN/Project_data/train'\n",
    "val_path = 'C:/Users/sebas/Case Study RNN/Project_data/val'\n",
    "num_train_sequences = len(train_doc)\n",
    "print('# training sequences =', num_train_sequences)\n",
    "num_val_sequences = len(val_doc)\n",
    "print('# validation sequences =', num_val_sequences)\n",
    "num_epochs = 20\n",
    "print ('# epochs =', num_epochs)"
   ]
  },
  {
   "cell_type": "markdown",
   "metadata": {},
   "source": [
    "## Model\n",
    "Here you make the model using different functionalities that Keras provides. You might want to use `TimeDistributed`, `GRU` and other RNN structures after doing transfer learning. Also remember that the last layer is the softmax. Remember that the network is designed in such a way that the model is able to fit in the memory of the webcam."
   ]
  },
  {
   "cell_type": "code",
   "execution_count": 7,
   "metadata": {},
   "outputs": [],
   "source": [
    "from keras.models import Sequential, Model\n",
    "from keras.layers import Dense, GRU, Dropout, Flatten, TimeDistributed,Conv2D, Input, Activation, GlobalAveragePooling2D\n",
    "from keras.callbacks import ModelCheckpoint, ReduceLROnPlateau\n",
    "from keras import optimizers\n",
    "#from keras.applications.vgg19 import VGG19\n",
    "#from tensorflow.keras.applications.resnet50 import ResNet50\n",
    "from keras.applications.inception_v3 import InceptionV3\n",
    "    \n",
    "base_model = InceptionV3(include_top=False, weights='imagenet', pooling=\"avg\", input_shape=(120,120,3))\n",
    "x = base_model.output\n",
    "features = Dense(64, activation='relu')(x)\n",
    "cnn = Model(inputs=base_model.input, outputs=features)\n",
    "    \n",
    "#for layer in base_model.layers:\n",
    "#    layer.trainable = False\n",
    "        \n",
    "model = Sequential()\n",
    "model.add(TimeDistributed(cnn,input_shape=(15,120,120,3)))  \n",
    "model.add(GRU(16, return_sequences=True))\n",
    "model.add(GRU(8))\n",
    "model.add(Dropout(0.4))\n",
    "model.add(Dense(8, activation='relu'))\n",
    "model.add(Dense(5, activation='softmax'))"
   ]
  },
  {
   "cell_type": "markdown",
   "metadata": {},
   "source": [
    "Now that you have written the model, the next step is to `compile` the model. When you print the `summary` of the model, you'll see the total number of parameters you have to train."
   ]
  },
  {
   "cell_type": "code",
   "execution_count": 8,
   "metadata": {},
   "outputs": [
    {
     "name": "stdout",
     "output_type": "stream",
     "text": [
      "Model: \"sequential\"\n",
      "_________________________________________________________________\n",
      "Layer (type)                 Output Shape              Param #   \n",
      "=================================================================\n",
      "time_distributed (TimeDistri (None, 15, 64)            21933920  \n",
      "_________________________________________________________________\n",
      "gru (GRU)                    (None, 15, 16)            3936      \n",
      "_________________________________________________________________\n",
      "gru_1 (GRU)                  (None, 8)                 624       \n",
      "_________________________________________________________________\n",
      "dropout (Dropout)            (None, 8)                 0         \n",
      "_________________________________________________________________\n",
      "dense_1 (Dense)              (None, 8)                 72        \n",
      "_________________________________________________________________\n",
      "dense_2 (Dense)              (None, 5)                 45        \n",
      "=================================================================\n",
      "Total params: 21,938,597\n",
      "Trainable params: 21,904,165\n",
      "Non-trainable params: 34,432\n",
      "_________________________________________________________________\n",
      "None\n"
     ]
    }
   ],
   "source": [
    "#sgd = tf.keras.optimizers.SGD(learning_rate=0.001, decay=1e-6, momentum=0.7, nesterov=True)\n",
    "model.compile(optimizer=\"adam\", loss='categorical_crossentropy', metrics=['categorical_accuracy'])\n",
    "print (model.summary())"
   ]
  },
  {
   "cell_type": "markdown",
   "metadata": {},
   "source": [
    "Let us create the `train_generator` and the `val_generator` which will be used in `.fit_generator`."
   ]
  },
  {
   "cell_type": "code",
   "execution_count": 9,
   "metadata": {},
   "outputs": [],
   "source": [
    "train_generator = generator(train_path, train_doc, batch_size)\n",
    "val_generator = generator(val_path, val_doc, batch_size)"
   ]
  },
  {
   "cell_type": "code",
   "execution_count": 10,
   "metadata": {},
   "outputs": [
    {
     "name": "stdout",
     "output_type": "stream",
     "text": [
      "WARNING:tensorflow:`period` argument is deprecated. Please use `save_freq` to specify the frequency in number of batches seen.\n",
      "WARNING:tensorflow:`epsilon` argument is deprecated and will be removed, use `min_delta` instead.\n"
     ]
    }
   ],
   "source": [
    "model_name = 'model_init_conv_lstm' + '_' + str(curr_dt_time).replace(' ','').replace(':','_') + '/'\n",
    "    \n",
    "if not os.path.exists(model_name):\n",
    "    os.mkdir(model_name)\n",
    "        \n",
    "filepath = model_name + 'model-{epoch:05d}-{loss:.5f}-{categorical_accuracy:.5f}-{val_loss:.5f}-{val_categorical_accuracy:.5f}.h5'\n",
    "\n",
    "checkpoint = ModelCheckpoint(filepath, monitor='val_loss', verbose=1, save_best_only=False, save_weights_only=False, mode='auto', period=4)\n",
    "\n",
    "LR = ReduceLROnPlateau(monitor='val_loss', factor=0.5, patience=2, verbose=1, mode='min', epsilon=0.0001, cooldown=0, min_lr=0.00001)\n",
    "callbacks_list = [checkpoint, LR]"
   ]
  },
  {
   "cell_type": "code",
   "execution_count": 11,
   "metadata": {},
   "outputs": [],
   "source": [
    "if (num_train_sequences%batch_size) == 0:\n",
    "    steps_per_epoch = int(num_train_sequences/batch_size)\n",
    "else:\n",
    "    steps_per_epoch = (num_train_sequences//batch_size) + 1\n",
    "\n",
    "if (num_val_sequences%batch_size) == 0:\n",
    "    validation_steps = int(num_val_sequences/batch_size)\n",
    "else:\n",
    "    validation_steps = (num_val_sequences//batch_size) + 1"
   ]
  },
  {
   "cell_type": "markdown",
   "metadata": {},
   "source": [
    "Let us now fit the model. This will start training the model and with the help of the checkpoints, you'll be able to save the model at the end of each epoch."
   ]
  },
  {
   "cell_type": "code",
   "execution_count": 12,
   "metadata": {},
   "outputs": [
    {
     "name": "stdout",
     "output_type": "stream",
     "text": [
      "Source path =  C:/Users/sebas/Case Study RNN/Project_data/train ; batch size = 8\n",
      "Epoch 1/20\n",
      "83/83 [==============================] - ETA: 0s - loss: 1.6028 - categorical_accuracy: 0.2383Source path =  C:/Users/sebas/Case Study RNN/Project_data/val ; batch size = 8\n",
      "83/83 [==============================] - 122s 1s/step - loss: 1.6028 - categorical_accuracy: 0.2383 - val_loss: 1.6222 - val_categorical_accuracy: 0.1600\n",
      "Epoch 2/20\n",
      "83/83 [==============================] - 75s 908ms/step - loss: 1.5429 - categorical_accuracy: 0.3122 - val_loss: 1.5761 - val_categorical_accuracy: 0.2600\n",
      "Epoch 3/20\n",
      "83/83 [==============================] - 74s 901ms/step - loss: 1.5431 - categorical_accuracy: 0.2821 - val_loss: 1.6387 - val_categorical_accuracy: 0.2800\n",
      "Epoch 4/20\n",
      "83/83 [==============================] - 74s 901ms/step - loss: 1.5075 - categorical_accuracy: 0.3047 - val_loss: 1.5793 - val_categorical_accuracy: 0.2500\n",
      "\n",
      "Epoch 00004: saving model to model_init_conv_lstm_2022-07-0801_25_32.978741\\model-00004-1.50746-0.30468-1.57926-0.25000.h5\n",
      "\n",
      "Epoch 00004: ReduceLROnPlateau reducing learning rate to 0.0005000000237487257.\n",
      "Epoch 5/20\n",
      "83/83 [==============================] - 77s 938ms/step - loss: 1.4395 - categorical_accuracy: 0.3741 - val_loss: 1.7689 - val_categorical_accuracy: 0.2100\n",
      "Epoch 6/20\n",
      "83/83 [==============================] - 75s 913ms/step - loss: 1.3853 - categorical_accuracy: 0.3876 - val_loss: 1.4197 - val_categorical_accuracy: 0.3300\n",
      "Epoch 7/20\n",
      "83/83 [==============================] - 77s 936ms/step - loss: 1.2983 - categorical_accuracy: 0.3952 - val_loss: 1.2754 - val_categorical_accuracy: 0.4100\n",
      "Epoch 8/20\n",
      "83/83 [==============================] - 76s 919ms/step - loss: 1.2538 - categorical_accuracy: 0.4857 - val_loss: 1.2517 - val_categorical_accuracy: 0.5100\n",
      "\n",
      "Epoch 00008: saving model to model_init_conv_lstm_2022-07-0801_25_32.978741\\model-00008-1.25385-0.48567-1.25166-0.51000.h5\n",
      "Epoch 9/20\n",
      "83/83 [==============================] - 76s 917ms/step - loss: 1.1809 - categorical_accuracy: 0.5128 - val_loss: 1.2583 - val_categorical_accuracy: 0.4300\n",
      "Epoch 10/20\n",
      "83/83 [==============================] - 75s 907ms/step - loss: 1.1629 - categorical_accuracy: 0.5505 - val_loss: 1.1652 - val_categorical_accuracy: 0.4900\n",
      "Epoch 11/20\n",
      "83/83 [==============================] - 76s 921ms/step - loss: 1.1718 - categorical_accuracy: 0.5581 - val_loss: 1.9166 - val_categorical_accuracy: 0.2000\n",
      "Epoch 12/20\n",
      "83/83 [==============================] - 75s 905ms/step - loss: 1.2287 - categorical_accuracy: 0.5324 - val_loss: 1.3445 - val_categorical_accuracy: 0.4300\n",
      "\n",
      "Epoch 00012: saving model to model_init_conv_lstm_2022-07-0801_25_32.978741\\model-00012-1.22869-0.53243-1.34448-0.43000.h5\n",
      "\n",
      "Epoch 00012: ReduceLROnPlateau reducing learning rate to 0.0002500000118743628.\n",
      "Epoch 13/20\n",
      "83/83 [==============================] - 75s 913ms/step - loss: 1.0875 - categorical_accuracy: 0.5777 - val_loss: 1.2709 - val_categorical_accuracy: 0.5300\n",
      "Epoch 14/20\n",
      "83/83 [==============================] - 85s 1s/step - loss: 1.0005 - categorical_accuracy: 0.6169 - val_loss: 0.9967 - val_categorical_accuracy: 0.5700\n",
      "Epoch 15/20\n",
      "83/83 [==============================] - 89s 1s/step - loss: 0.9473 - categorical_accuracy: 0.6516 - val_loss: 0.9725 - val_categorical_accuracy: 0.6000\n",
      "Epoch 16/20\n",
      "83/83 [==============================] - 82s 995ms/step - loss: 0.9306 - categorical_accuracy: 0.6652 - val_loss: 0.7923 - val_categorical_accuracy: 0.7200\n",
      "\n",
      "Epoch 00016: saving model to model_init_conv_lstm_2022-07-0801_25_32.978741\\model-00016-0.93057-0.66516-0.79230-0.72000.h5\n",
      "Epoch 17/20\n",
      "83/83 [==============================] - 79s 952ms/step - loss: 0.8989 - categorical_accuracy: 0.6833 - val_loss: 0.8731 - val_categorical_accuracy: 0.5800\n",
      "Epoch 18/20\n",
      "83/83 [==============================] - 77s 929ms/step - loss: 0.8343 - categorical_accuracy: 0.7179 - val_loss: 0.8794 - val_categorical_accuracy: 0.6100\n",
      "\n",
      "Epoch 00018: ReduceLROnPlateau reducing learning rate to 0.0001250000059371814.\n",
      "Epoch 19/20\n",
      "83/83 [==============================] - 80s 975ms/step - loss: 0.8064 - categorical_accuracy: 0.6998 - val_loss: 0.7509 - val_categorical_accuracy: 0.6900\n",
      "Epoch 20/20\n",
      "83/83 [==============================] - 78s 952ms/step - loss: 0.7676 - categorical_accuracy: 0.7270 - val_loss: 0.8164 - val_categorical_accuracy: 0.6700\n",
      "\n",
      "Epoch 00020: saving model to model_init_conv_lstm_2022-07-0801_25_32.978741\\model-00020-0.76763-0.72700-0.81644-0.67000.h5\n"
     ]
    },
    {
     "data": {
      "text/plain": [
       "<keras.callbacks.History at 0x17f5ea80580>"
      ]
     },
     "execution_count": 12,
     "metadata": {},
     "output_type": "execute_result"
    }
   ],
   "source": [
    "model.fit(train_generator, steps_per_epoch=steps_per_epoch, epochs=num_epochs, verbose=1, \n",
    "                    callbacks=callbacks_list, validation_data=val_generator, \n",
    "                    validation_steps=validation_steps, \n",
    "                    class_weight=None, \n",
    "                    workers=1, \n",
    "                    initial_epoch=0)"
   ]
  },
  {
   "cell_type": "code",
   "execution_count": null,
   "metadata": {},
   "outputs": [],
   "source": []
  }
 ],
 "metadata": {
  "kernelspec": {
   "display_name": "Python 3 (ipykernel)",
   "language": "python",
   "name": "python3"
  },
  "language_info": {
   "codemirror_mode": {
    "name": "ipython",
    "version": 3
   },
   "file_extension": ".py",
   "mimetype": "text/x-python",
   "name": "python",
   "nbconvert_exporter": "python",
   "pygments_lexer": "ipython3",
   "version": "3.9.12"
  }
 },
 "nbformat": 4,
 "nbformat_minor": 2
}
