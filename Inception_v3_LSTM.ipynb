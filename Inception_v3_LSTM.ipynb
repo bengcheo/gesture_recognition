{
 "cells": [
  {
   "cell_type": "markdown",
   "metadata": {},
   "source": [
    "# Gesture Recognition\n",
    "In this group project, you are going to build a 3D Conv model that will be able to predict the 5 gestures correctly. Please import the following libraries to get started."
   ]
  },
  {
   "cell_type": "code",
   "execution_count": 1,
   "metadata": {},
   "outputs": [],
   "source": [
    "import numpy as np\n",
    "import os\n",
    "#from scipy.misc import imread, imresize\n",
    "import skimage\n",
    "import datetime\n",
    "import os"
   ]
  },
  {
   "cell_type": "markdown",
   "metadata": {},
   "source": [
    "We set the random seed so that the results don't vary drastically."
   ]
  },
  {
   "cell_type": "code",
   "execution_count": 2,
   "metadata": {},
   "outputs": [
    {
     "name": "stdout",
     "output_type": "stream",
     "text": [
      "Default GPU Device: /device:GPU:0\n"
     ]
    }
   ],
   "source": [
    "np.random.seed(30)\n",
    "import random as rn\n",
    "rn.seed(30)\n",
    "from keras import backend as K\n",
    "import tensorflow as tf\n",
    "\n",
    "if tf.test.gpu_device_name(): \n",
    "    print('Default GPU Device: {}'.format(tf.test.gpu_device_name()))\n",
    "else:\n",
    "    print(\"Please install GPU version of TF\")\n",
    "tf.random.set_seed(30)"
   ]
  },
  {
   "cell_type": "markdown",
   "metadata": {},
   "source": [
    "In this block, you read the folder names for training and validation. You also set the `batch_size` here. Note that you set the batch size in such a way that you are able to use the GPU in full capacity. You keep increasing the batch size until the machine throws an error."
   ]
  },
  {
   "cell_type": "code",
   "execution_count": 3,
   "metadata": {},
   "outputs": [],
   "source": [
    "train_doc = np.random.permutation(open('C:/Users/sebas/Case Study RNN/Project_data/train.csv').readlines())\n",
    "val_doc = np.random.permutation(open('C:/Users/sebas/Case Study RNN/Project_data/val.csv').readlines())\n",
    "batch_size = 8 #experiment with the batch size"
   ]
  },
  {
   "cell_type": "markdown",
   "metadata": {},
   "source": [
    "## Generator\n",
    "This is one of the most important part of the code. The overall structure of the generator has been given. In the generator, you are going to preprocess the images as you have images of 2 different dimensions as well as create a batch of video frames. You have to experiment with some of the parts of the generator function such that you get high accuracy."
   ]
  },
  {
   "cell_type": "code",
   "execution_count": 4,
   "metadata": {},
   "outputs": [],
   "source": [
    "def generator(source_path, folder_list, batch_size):\n",
    "    print( 'Source path = ', source_path, '; batch size =', batch_size)\n",
    "    img_idx = [num for num in range(0,15,1)]\n",
    "    while True:\n",
    "        t = np.random.permutation(folder_list)\n",
    "        num_batches = int(len(t)/batch_size)\n",
    "        for batch in range(num_batches):\n",
    "            batch_data = np.zeros((batch_size,15,120,120,3))\n",
    "            batch_labels = np.zeros((batch_size,5))\n",
    "            for folder in range(batch_size):\n",
    "                imgs = os.listdir(source_path+'/'+ t[folder + (batch*batch_size)].split(';')[0])\n",
    "                for idx,item in enumerate(img_idx):\n",
    "                    image = skimage.io.imread(source_path+'/'+ t[folder + (batch*batch_size)].strip().split(';')[0]+'/'+imgs[item]).astype(np.float32)\n",
    "                    image = skimage.transform.resize(image,(120,120)).astype(np.float32)\n",
    "                    \n",
    "                    batch_data[folder,idx,:,:,0] = image[:,:,0]/255\n",
    "                    batch_data[folder,idx,:,:,1] = image[:,:,1]/255\n",
    "                    batch_data[folder,idx,:,:,2] = image[:,:,2]/255\n",
    "                    \n",
    "                batch_labels[folder, int(t[folder + (batch*batch_size)].strip().split(';')[2])] = 1\n",
    "            yield batch_data, batch_labels\n",
    "\n",
    "        if (len(t)%batch_size) != 0:\n",
    "            batch_data = np.zeros((len(t)%batch_size,15,120,120,3))\n",
    "            batch_labels = np.zeros((len(t)%batch_size,5))\n",
    "            for folder in range(len(t)%batch_size):\n",
    "                imgs = os.listdir(source_path+'/'+ t[folder + (num_batches*batch_size)].split(';')[0])\n",
    "                for idx,item in enumerate(img_idx):\n",
    "                    image = skimage.io.imread(source_path+'/'+ t[folder + (num_batches*batch_size)].strip().split(';')[0]+'/'+imgs[item]).astype(np.float32)\n",
    "                    image = skimage.transform.resize(image,(120,120)).astype(np.float32)\n",
    "\n",
    "                    batch_data[folder,idx,:,:,0] = image[:,:,0]/255\n",
    "                    batch_data[folder,idx,:,:,1] = image[:,:,1]/255\n",
    "                    batch_data[folder,idx,:,:,2] = image[:,:,2]/255\n",
    "\n",
    "                batch_labels[folder, int(t[folder + (num_batches*batch_size)].strip().split(';')[2])] = 1\n",
    "\n",
    "            yield batch_data, batch_labels"
   ]
  },
  {
   "cell_type": "code",
   "execution_count": 5,
   "metadata": {},
   "outputs": [
    {
     "name": "stdout",
     "output_type": "stream",
     "text": [
      "# training sequences = 663\n",
      "# validation sequences = 100\n",
      "# epochs = 20\n"
     ]
    }
   ],
   "source": [
    "curr_dt_time = datetime.datetime.now()\n",
    "train_path = 'C:/Users/sebas/Case Study RNN/Project_data/train'\n",
    "val_path = 'C:/Users/sebas/Case Study RNN/Project_data/val'\n",
    "num_train_sequences = len(train_doc)\n",
    "print('# training sequences =', num_train_sequences)\n",
    "num_val_sequences = len(val_doc)\n",
    "print('# validation sequences =', num_val_sequences)\n",
    "num_epochs = 20\n",
    "print ('# epochs =', num_epochs)"
   ]
  },
  {
   "cell_type": "markdown",
   "metadata": {},
   "source": [
    "## Model\n",
    "Here you make the model using different functionalities that Keras provides. You might want to use `TimeDistributed`, `GRU` and other RNN structures after doing transfer learning. Also remember that the last layer is the softmax. Remember that the network is designed in such a way that the model is able to fit in the memory of the webcam."
   ]
  },
  {
   "cell_type": "code",
   "execution_count": 7,
   "metadata": {},
   "outputs": [],
   "source": [
    "from keras.models import Sequential, Model\n",
    "from keras.layers import Dense, LSTM, Dropout, Flatten, TimeDistributed,Conv2D, Input, Activation, GlobalAveragePooling2D\n",
    "from keras.callbacks import ModelCheckpoint, ReduceLROnPlateau\n",
    "from keras import optimizers\n",
    "from keras.applications.inception_v3 import InceptionV3\n",
    "    \n",
    "base_model = InceptionV3(include_top=False, weights='imagenet', pooling=\"avg\", input_shape=(120,120,3))\n",
    "x = base_model.output\n",
    "features = Dense(64, activation='relu')(x)\n",
    "cnn = Model(inputs=base_model.input, outputs=features)\n",
    "        \n",
    "model = Sequential()\n",
    "model.add(TimeDistributed(cnn,input_shape=(15,120,120,3)))  \n",
    "model.add(LSTM(16))\n",
    "model.add(Dense(128, activation = 'relu'))\n",
    "model.add(Dense(5, activation='softmax'))"
   ]
  },
  {
   "cell_type": "markdown",
   "metadata": {},
   "source": [
    "Now that you have written the model, the next step is to `compile` the model. When you print the `summary` of the model, you'll see the total number of parameters you have to train."
   ]
  },
  {
   "cell_type": "code",
   "execution_count": 8,
   "metadata": {},
   "outputs": [
    {
     "name": "stdout",
     "output_type": "stream",
     "text": [
      "Model: \"sequential_1\"\n",
      "_________________________________________________________________\n",
      "Layer (type)                 Output Shape              Param #   \n",
      "=================================================================\n",
      "time_distributed_1 (TimeDist (None, 15, 64)            21933920  \n",
      "_________________________________________________________________\n",
      "lstm (LSTM)                  (None, 16)                5184      \n",
      "_________________________________________________________________\n",
      "dense_2 (Dense)              (None, 128)               2176      \n",
      "_________________________________________________________________\n",
      "dense_3 (Dense)              (None, 5)                 645       \n",
      "=================================================================\n",
      "Total params: 21,941,925\n",
      "Trainable params: 21,907,493\n",
      "Non-trainable params: 34,432\n",
      "_________________________________________________________________\n",
      "None\n"
     ]
    }
   ],
   "source": [
    "model.compile(optimizer=\"adam\", loss='categorical_crossentropy', metrics=['categorical_accuracy'])\n",
    "print (model.summary())"
   ]
  },
  {
   "cell_type": "markdown",
   "metadata": {},
   "source": [
    "Let us create the `train_generator` and the `val_generator` which will be used in `.fit_generator`."
   ]
  },
  {
   "cell_type": "code",
   "execution_count": 9,
   "metadata": {},
   "outputs": [],
   "source": [
    "train_generator = generator(train_path, train_doc, batch_size)\n",
    "val_generator = generator(val_path, val_doc, batch_size)"
   ]
  },
  {
   "cell_type": "code",
   "execution_count": 12,
   "metadata": {},
   "outputs": [],
   "source": [
    "model_name = 'model_init_conv_lstm' + '_' + str(curr_dt_time).replace(' ','').replace(':','_') + '/'\n",
    "    \n",
    "if not os.path.exists(model_name):\n",
    "    os.mkdir(model_name)\n",
    "        \n",
    "filepath = model_name + 'model-{epoch:05d}-{loss:.5f}-{categorical_accuracy:.5f}-{val_loss:.5f}-{val_categorical_accuracy:.5f}.h5'\n",
    "\n",
    "checkpoint = ModelCheckpoint(filepath, monitor='val_loss', verbose=1, save_best_only= True, save_weights_only= True, mode='auto')\n",
    "\n",
    "LR = ReduceLROnPlateau(monitor='val_loss', factor=0.5, patience=2, verbose=1, mode='min', min_delta=0.0001, cooldown=0, min_lr=0.00001)\n",
    "callbacks_list = [checkpoint, LR]"
   ]
  },
  {
   "cell_type": "code",
   "execution_count": 13,
   "metadata": {},
   "outputs": [],
   "source": [
    "if (num_train_sequences%batch_size) == 0:\n",
    "    steps_per_epoch = int(num_train_sequences/batch_size)\n",
    "else:\n",
    "    steps_per_epoch = (num_train_sequences//batch_size) + 1\n",
    "\n",
    "if (num_val_sequences%batch_size) == 0:\n",
    "    validation_steps = int(num_val_sequences/batch_size)\n",
    "else:\n",
    "    validation_steps = (num_val_sequences//batch_size) + 1"
   ]
  },
  {
   "cell_type": "markdown",
   "metadata": {},
   "source": [
    "Let us now fit the model. This will start training the model and with the help of the checkpoints, you'll be able to save the model at the end of each epoch."
   ]
  },
  {
   "cell_type": "code",
   "execution_count": 14,
   "metadata": {},
   "outputs": [
    {
     "name": "stdout",
     "output_type": "stream",
     "text": [
      "Source path =  C:/Users/sebas/Case Study RNN/Project_data/train ; batch size = 8\n",
      "Epoch 1/20\n",
      "83/83 [==============================] - ETA: 0s - loss: 1.4569 - categorical_accuracy: 0.3620Source path =  C:/Users/sebas/Case Study RNN/Project_data/val ; batch size = 8\n",
      "83/83 [==============================] - 129s 1s/step - loss: 1.4569 - categorical_accuracy: 0.3620 - val_loss: 1.6763 - val_categorical_accuracy: 0.2200\n",
      "\n",
      "Epoch 00001: val_loss improved from inf to 1.67635, saving model to model_init_conv_lstm_2022-07-1121_12_50.799421\\model-00001-1.45690-0.36199-1.67635-0.22000.h5\n",
      "Epoch 2/20\n",
      "83/83 [==============================] - 76s 921ms/step - loss: 1.3967 - categorical_accuracy: 0.3816 - val_loss: 1.5891 - val_categorical_accuracy: 0.2800\n",
      "\n",
      "Epoch 00002: val_loss improved from 1.67635 to 1.58907, saving model to model_init_conv_lstm_2022-07-1121_12_50.799421\\model-00002-1.39671-0.38160-1.58907-0.28000.h5\n",
      "Epoch 3/20\n",
      "83/83 [==============================] - 76s 914ms/step - loss: 1.3102 - categorical_accuracy: 0.4148 - val_loss: 1.8108 - val_categorical_accuracy: 0.1800\n",
      "\n",
      "Epoch 00003: val_loss did not improve from 1.58907\n",
      "Epoch 4/20\n",
      "83/83 [==============================] - 76s 916ms/step - loss: 1.2812 - categorical_accuracy: 0.4676 - val_loss: 1.6718 - val_categorical_accuracy: 0.2500\n",
      "\n",
      "Epoch 00004: val_loss did not improve from 1.58907\n",
      "\n",
      "Epoch 00004: ReduceLROnPlateau reducing learning rate to 0.0005000000237487257.\n",
      "Epoch 5/20\n",
      "83/83 [==============================] - 76s 924ms/step - loss: 1.1509 - categorical_accuracy: 0.5279 - val_loss: 1.3627 - val_categorical_accuracy: 0.4500\n",
      "\n",
      "Epoch 00005: val_loss improved from 1.58907 to 1.36270, saving model to model_init_conv_lstm_2022-07-1121_12_50.799421\\model-00005-1.15092-0.52790-1.36270-0.45000.h5\n",
      "Epoch 6/20\n",
      "83/83 [==============================] - 78s 945ms/step - loss: 1.0222 - categorical_accuracy: 0.5747 - val_loss: 1.0134 - val_categorical_accuracy: 0.6800\n",
      "\n",
      "Epoch 00006: val_loss improved from 1.36270 to 1.01338, saving model to model_init_conv_lstm_2022-07-1121_12_50.799421\\model-00006-1.02219-0.57466-1.01338-0.68000.h5\n",
      "Epoch 7/20\n",
      "83/83 [==============================] - 76s 925ms/step - loss: 0.9299 - categorical_accuracy: 0.6516 - val_loss: 1.7266 - val_categorical_accuracy: 0.4500\n",
      "\n",
      "Epoch 00007: val_loss did not improve from 1.01338\n",
      "Epoch 8/20\n",
      "83/83 [==============================] - 77s 932ms/step - loss: 0.9702 - categorical_accuracy: 0.6199 - val_loss: 0.9528 - val_categorical_accuracy: 0.6600\n",
      "\n",
      "Epoch 00008: val_loss improved from 1.01338 to 0.95279, saving model to model_init_conv_lstm_2022-07-1121_12_50.799421\\model-00008-0.97024-0.61991-0.95279-0.66000.h5\n",
      "Epoch 9/20\n",
      "83/83 [==============================] - 77s 933ms/step - loss: 0.8642 - categorical_accuracy: 0.6893 - val_loss: 1.5971 - val_categorical_accuracy: 0.3900\n",
      "\n",
      "Epoch 00009: val_loss did not improve from 0.95279\n",
      "Epoch 10/20\n",
      "83/83 [==============================] - 76s 918ms/step - loss: 0.8404 - categorical_accuracy: 0.6938 - val_loss: 1.4078 - val_categorical_accuracy: 0.5400\n",
      "\n",
      "Epoch 00010: val_loss did not improve from 0.95279\n",
      "\n",
      "Epoch 00010: ReduceLROnPlateau reducing learning rate to 0.0002500000118743628.\n",
      "Epoch 11/20\n",
      "83/83 [==============================] - 76s 921ms/step - loss: 0.7253 - categorical_accuracy: 0.7179 - val_loss: 0.8327 - val_categorical_accuracy: 0.7000\n",
      "\n",
      "Epoch 00011: val_loss improved from 0.95279 to 0.83268, saving model to model_init_conv_lstm_2022-07-1121_12_50.799421\\model-00011-0.72532-0.71795-0.83268-0.70000.h5\n",
      "Epoch 12/20\n",
      "83/83 [==============================] - 76s 920ms/step - loss: 0.7004 - categorical_accuracy: 0.7587 - val_loss: 0.5541 - val_categorical_accuracy: 0.7800\n",
      "\n",
      "Epoch 00012: val_loss improved from 0.83268 to 0.55408, saving model to model_init_conv_lstm_2022-07-1121_12_50.799421\\model-00012-0.70044-0.75867-0.55408-0.78000.h5\n",
      "Epoch 13/20\n",
      "83/83 [==============================] - 81s 982ms/step - loss: 0.5485 - categorical_accuracy: 0.8130 - val_loss: 0.5963 - val_categorical_accuracy: 0.7700\n",
      "\n",
      "Epoch 00013: val_loss did not improve from 0.55408\n",
      "Epoch 14/20\n",
      "83/83 [==============================] - 81s 982ms/step - loss: 0.5407 - categorical_accuracy: 0.7964 - val_loss: 0.6748 - val_categorical_accuracy: 0.7700\n",
      "\n",
      "Epoch 00014: val_loss did not improve from 0.55408\n",
      "\n",
      "Epoch 00014: ReduceLROnPlateau reducing learning rate to 0.0001250000059371814.\n",
      "Epoch 15/20\n",
      "83/83 [==============================] - 75s 914ms/step - loss: 0.4559 - categorical_accuracy: 0.8416 - val_loss: 0.6015 - val_categorical_accuracy: 0.8400\n",
      "\n",
      "Epoch 00015: val_loss did not improve from 0.55408\n",
      "Epoch 16/20\n",
      "83/83 [==============================] - 79s 952ms/step - loss: 0.4191 - categorical_accuracy: 0.8748 - val_loss: 0.4603 - val_categorical_accuracy: 0.8500\n",
      "\n",
      "Epoch 00016: val_loss improved from 0.55408 to 0.46025, saving model to model_init_conv_lstm_2022-07-1121_12_50.799421\\model-00016-0.41912-0.87481-0.46025-0.85000.h5\n",
      "Epoch 17/20\n",
      "83/83 [==============================] - 77s 929ms/step - loss: 0.3856 - categorical_accuracy: 0.8643 - val_loss: 0.4124 - val_categorical_accuracy: 0.8700\n",
      "\n",
      "Epoch 00017: val_loss improved from 0.46025 to 0.41236, saving model to model_init_conv_lstm_2022-07-1121_12_50.799421\\model-00017-0.38559-0.86425-0.41236-0.87000.h5\n",
      "Epoch 18/20\n",
      "83/83 [==============================] - 79s 952ms/step - loss: 0.3322 - categorical_accuracy: 0.8929 - val_loss: 0.4247 - val_categorical_accuracy: 0.8300\n",
      "\n",
      "Epoch 00018: val_loss did not improve from 0.41236\n",
      "Epoch 19/20\n",
      "83/83 [==============================] - 78s 943ms/step - loss: 0.3160 - categorical_accuracy: 0.8959 - val_loss: 0.5294 - val_categorical_accuracy: 0.8300\n",
      "\n",
      "Epoch 00019: val_loss did not improve from 0.41236\n",
      "\n",
      "Epoch 00019: ReduceLROnPlateau reducing learning rate to 6.25000029685907e-05.\n",
      "Epoch 20/20\n",
      "83/83 [==============================] - 76s 916ms/step - loss: 0.3143 - categorical_accuracy: 0.9095 - val_loss: 0.3623 - val_categorical_accuracy: 0.8700\n",
      "\n",
      "Epoch 00020: val_loss improved from 0.41236 to 0.36234, saving model to model_init_conv_lstm_2022-07-1121_12_50.799421\\model-00020-0.31435-0.90950-0.36234-0.87000.h5\n"
     ]
    }
   ],
   "source": [
    "history = model.fit(train_generator, steps_per_epoch=steps_per_epoch, epochs=num_epochs, verbose=1, \n",
    "                    callbacks=callbacks_list, \n",
    "                    validation_data=val_generator, \n",
    "                    validation_steps=validation_steps, \n",
    "                    class_weight=None, \n",
    "                    workers=1, \n",
    "                    initial_epoch=0)"
   ]
  },
  {
   "cell_type": "code",
   "execution_count": 15,
   "metadata": {},
   "outputs": [
    {
     "data": {
      "image/png": "[encoded data removed]",
      "text/plain": [
       "<Figure size 432x288 with 1 Axes>"
      ]
     },
     "metadata": {
      "needs_background": "light"
     },
     "output_type": "display_data"
    }
   ],
   "source": [
    "import matplotlib.pyplot as plt\n",
    "# Plot history: Categorical crossentropy & Accuracy\n",
    "plt.plot(history.history['loss'], label='Categorical crossentropy (training data)')\n",
    "plt.plot(history.history['val_loss'], label='Categorical crossentropy (validation data)')\n",
    "plt.plot(history.history['categorical_accuracy'], label='Categorical Accuracy (training data)')\n",
    "plt.plot(history.history['val_categorical_accuracy'], label='Categorical Accuracy (validation data)')\n",
    "plt.title('Model performance ')\n",
    "plt.ylabel('Loss value')\n",
    "plt.xlabel('No. epoch')\n",
    "plt.legend(loc=\"upper left\")\n",
    "plt.show()"
   ]
  },
  {
   "cell_type": "code",
   "execution_count": null,
   "metadata": {},
   "outputs": [],
   "source": []
  }
 ],
 "metadata": {
  "kernelspec": {
   "display_name": "Python 3 (ipykernel)",
   "language": "python",
   "name": "python3"
  },
  "language_info": {
   "codemirror_mode": {
    "name": "ipython",
    "version": 3
   },
   "file_extension": ".py",
   "mimetype": "text/x-python",
   "name": "python",
   "nbconvert_exporter": "python",
   "pygments_lexer": "ipython3",
   "version": "3.9.12"
  }
 },
 "nbformat": 4,
 "nbformat_minor": 2
}
