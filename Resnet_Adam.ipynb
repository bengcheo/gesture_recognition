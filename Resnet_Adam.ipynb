{
 "cells": [
  {
   "cell_type": "markdown",
   "metadata": {},
   "source": [
    "# Gesture Recognition\n",
    "In this group project, you are going to build a 3D Conv model that will be able to predict the 5 gestures correctly. Please import the following libraries to get started."
   ]
  },
  {
   "cell_type": "code",
   "execution_count": 1,
   "metadata": {},
   "outputs": [],
   "source": [
    "import numpy as np\n",
    "import os\n",
    "#from scipy.misc import imread, imresize\n",
    "import skimage\n",
    "import datetime\n",
    "import os"
   ]
  },
  {
   "cell_type": "markdown",
   "metadata": {},
   "source": [
    "We set the random seed so that the results don't vary drastically."
   ]
  },
  {
   "cell_type": "code",
   "execution_count": 2,
   "metadata": {},
   "outputs": [
    {
     "name": "stdout",
     "output_type": "stream",
     "text": [
      "Default GPU Device: /device:GPU:0\n"
     ]
    }
   ],
   "source": [
    "np.random.seed(30)\n",
    "import random as rn\n",
    "rn.seed(30)\n",
    "from keras import backend as K\n",
    "import tensorflow as tf\n",
    "\n",
    "if tf.test.gpu_device_name(): \n",
    "    print('Default GPU Device: {}'.format(tf.test.gpu_device_name()))\n",
    "else:\n",
    "    print(\"Please install GPU version of TF\")\n",
    "tf.random.set_seed(30)"
   ]
  },
  {
   "cell_type": "markdown",
   "metadata": {},
   "source": [
    "In this block, you read the folder names for training and validation. You also set the `batch_size` here. Note that you set the batch size in such a way that you are able to use the GPU in full capacity. You keep increasing the batch size until the machine throws an error."
   ]
  },
  {
   "cell_type": "code",
   "execution_count": 3,
   "metadata": {},
   "outputs": [],
   "source": [
    "train_doc = np.random.permutation(open('C:/Users/sebas/Case Study RNN/Project_data/train.csv').readlines())\n",
    "val_doc = np.random.permutation(open('C:/Users/sebas/Case Study RNN/Project_data/val.csv').readlines())\n",
    "batch_size = 32 #experiment with the batch size"
   ]
  },
  {
   "cell_type": "markdown",
   "metadata": {},
   "source": [
    "## Generator\n",
    "This is one of the most important part of the code. The overall structure of the generator has been given. In the generator, you are going to preprocess the images as you have images of 2 different dimensions as well as create a batch of video frames. You have to experiment with some of the parts of the generator function such that you get high accuracy."
   ]
  },
  {
   "cell_type": "code",
   "execution_count": 4,
   "metadata": {},
   "outputs": [],
   "source": [
    "def generator(source_path, folder_list, batch_size):\n",
    "    print( 'Source path = ', source_path, '; batch size =', batch_size)\n",
    "    img_idx = [num for num in range(0,15,1)]\n",
    "    while True:\n",
    "        t = np.random.permutation(folder_list)\n",
    "        num_batches = int(len(t)/batch_size)\n",
    "        for batch in range(num_batches):\n",
    "            batch_data = np.zeros((batch_size,15,120,120,3))\n",
    "            batch_labels = np.zeros((batch_size,5))\n",
    "            for folder in range(batch_size):\n",
    "                imgs = os.listdir(source_path+'/'+ t[folder + (batch*batch_size)].split(';')[0])\n",
    "                for idx,item in enumerate(img_idx):\n",
    "                    image = skimage.io.imread(source_path+'/'+ t[folder + (batch*batch_size)].strip().split(';')[0]+'/'+imgs[item]).astype(np.float32)\n",
    "                    image = skimage.transform.resize(image,(120,120)).astype(np.float32)\n",
    "                    \n",
    "                    batch_data[folder,idx,:,:,0] = image[:,:,0]/255\n",
    "                    batch_data[folder,idx,:,:,1] = image[:,:,1]/255\n",
    "                    batch_data[folder,idx,:,:,2] = image[:,:,2]/255\n",
    "                    \n",
    "                batch_labels[folder, int(t[folder + (batch*batch_size)].strip().split(';')[2])] = 1\n",
    "            yield batch_data, batch_labels\n",
    "\n",
    "        if (len(t)%batch_size) != 0:\n",
    "            batch_data = np.zeros((len(t)%batch_size,15,120,120,3))\n",
    "            batch_labels = np.zeros((len(t)%batch_size,5))\n",
    "            for folder in range(len(t)%batch_size):\n",
    "                imgs = os.listdir(source_path+'/'+ t[folder + (num_batches*batch_size)].split(';')[0])\n",
    "                for idx,item in enumerate(img_idx):\n",
    "                    image = skimage.io.imread(source_path+'/'+ t[folder + (num_batches*batch_size)].strip().split(';')[0]+'/'+imgs[item]).astype(np.float32)\n",
    "                    image = skimage.transform.resize(image,(120,120)).astype(np.float32)\n",
    "\n",
    "                    batch_data[folder,idx,:,:,0] = image[:,:,0]/255\n",
    "                    batch_data[folder,idx,:,:,1] = image[:,:,1]/255\n",
    "                    batch_data[folder,idx,:,:,2] = image[:,:,2]/255\n",
    "\n",
    "                batch_labels[folder, int(t[folder + (num_batches*batch_size)].strip().split(';')[2])] = 1\n",
    "\n",
    "            yield batch_data, batch_labels"
   ]
  },
  {
   "cell_type": "code",
   "execution_count": 5,
   "metadata": {},
   "outputs": [
    {
     "name": "stdout",
     "output_type": "stream",
     "text": [
      "# training sequences = 663\n",
      "# validation sequences = 100\n",
      "# epochs = 30\n"
     ]
    }
   ],
   "source": [
    "curr_dt_time = datetime.datetime.now()\n",
    "train_path = 'C:/Users/sebas/Case Study RNN/Project_data/train'\n",
    "val_path = 'C:/Users/sebas/Case Study RNN/Project_data/val'\n",
    "num_train_sequences = len(train_doc)\n",
    "print('# training sequences =', num_train_sequences)\n",
    "num_val_sequences = len(val_doc)\n",
    "print('# validation sequences =', num_val_sequences)\n",
    "num_epochs = 30\n",
    "print ('# epochs =', num_epochs)"
   ]
  },
  {
   "cell_type": "markdown",
   "metadata": {},
   "source": [
    "## Model\n",
    "Here you make the model using different functionalities that Keras provides. You might want to use `TimeDistributed`, `GRU` and other RNN structures after doing transfer learning. Also remember that the last layer is the softmax. Remember that the network is designed in such a way that the model is able to fit in the memory of the webcam."
   ]
  },
  {
   "cell_type": "code",
   "execution_count": 6,
   "metadata": {},
   "outputs": [],
   "source": [
    "from keras.models import Sequential, Model\n",
    "from keras.layers import Dense, GRU, Dropout, Flatten, TimeDistributed,Conv2D, Input, Activation, GlobalAveragePooling2D\n",
    "from keras.callbacks import ModelCheckpoint, ReduceLROnPlateau\n",
    "from keras import optimizers\n",
    "from tensorflow.keras.applications.resnet50 import ResNet50\n",
    "    \n",
    "base_model = ResNet50(include_top=False, weights='imagenet',input_shape=(120, 120 ,3))\n",
    "for layer in base_model.layers:\n",
    "    layer.trainable=False\n",
    "cnn =Sequential([base_model])\n",
    "cnn.add(Conv2D(64,(2,2),strides=(1,1)))\n",
    "cnn.add(Conv2D(16,(3,3),strides=(1,1)))\n",
    "cnn.add(Flatten()) \n",
    "    \n",
    "        \n",
    "model = Sequential()\n",
    "model.add(TimeDistributed(cnn,input_shape=(15,120,120,3)))  \n",
    "model.add(GRU(16,input_shape=(None, 15 , 16),return_sequences=True))\n",
    "model.add(GRU(8))\n",
    "model.add(Dense(5,activation='softmax'))"
   ]
  },
  {
   "cell_type": "markdown",
   "metadata": {},
   "source": [
    "Now that you have written the model, the next step is to `compile` the model. When you print the `summary` of the model, you'll see the total number of parameters you have to train."
   ]
  },
  {
   "cell_type": "code",
   "execution_count": 7,
   "metadata": {},
   "outputs": [
    {
     "name": "stdout",
     "output_type": "stream",
     "text": [
      "Model: \"sequential_1\"\n",
      "_________________________________________________________________\n",
      "Layer (type)                 Output Shape              Param #   \n",
      "=================================================================\n",
      "time_distributed (TimeDistri (None, 15, 16)            24121296  \n",
      "_________________________________________________________________\n",
      "gru (GRU)                    (None, 15, 16)            1632      \n",
      "_________________________________________________________________\n",
      "gru_1 (GRU)                  (None, 8)                 624       \n",
      "_________________________________________________________________\n",
      "dense (Dense)                (None, 5)                 45        \n",
      "=================================================================\n",
      "Total params: 24,123,597\n",
      "Trainable params: 535,885\n",
      "Non-trainable params: 23,587,712\n",
      "_________________________________________________________________\n",
      "None\n"
     ]
    }
   ],
   "source": [
    "model.compile(optimizer=\"adam\", loss='categorical_crossentropy', metrics=['categorical_accuracy'])\n",
    "print (model.summary())"
   ]
  },
  {
   "cell_type": "markdown",
   "metadata": {},
   "source": [
    "Let us create the `train_generator` and the `val_generator` which will be used in `.fit_generator`."
   ]
  },
  {
   "cell_type": "code",
   "execution_count": 8,
   "metadata": {},
   "outputs": [],
   "source": [
    "train_generator = generator(train_path, train_doc, batch_size)\n",
    "val_generator = generator(val_path, val_doc, batch_size)"
   ]
  },
  {
   "cell_type": "code",
   "execution_count": 9,
   "metadata": {},
   "outputs": [],
   "source": [
    "model_name = 'model_init_conv_lstm' + '_' + str(curr_dt_time).replace(' ','').replace(':','_') + '/'\n",
    "    \n",
    "if not os.path.exists(model_name):\n",
    "    os.mkdir(model_name)\n",
    "        \n",
    "filepath = model_name + 'model-{epoch:05d}-{loss:.5f}-{categorical_accuracy:.5f}-{val_loss:.5f}-{val_categorical_accuracy:.5f}.h5'\n",
    "\n",
    "checkpoint = ModelCheckpoint(filepath, monitor='val_loss', verbose=1, save_best_only= True, save_weights_only= True, mode='auto')\n",
    "\n",
    "LR = ReduceLROnPlateau(monitor='val_loss', factor=0.5, patience=2, verbose=1, mode='min', cooldown=0, min_lr=0.00001)\n",
    "callbacks_list = [checkpoint, LR]"
   ]
  },
  {
   "cell_type": "code",
   "execution_count": 10,
   "metadata": {},
   "outputs": [],
   "source": [
    "if (num_train_sequences%batch_size) == 0:\n",
    "    steps_per_epoch = int(num_train_sequences/batch_size)\n",
    "else:\n",
    "    steps_per_epoch = (num_train_sequences//batch_size) + 1\n",
    "\n",
    "if (num_val_sequences%batch_size) == 0:\n",
    "    validation_steps = int(num_val_sequences/batch_size)\n",
    "else:\n",
    "    validation_steps = (num_val_sequences//batch_size) + 1"
   ]
  },
  {
   "cell_type": "markdown",
   "metadata": {},
   "source": [
    "Let us now fit the model. This will start training the model and with the help of the checkpoints, you'll be able to save the model at the end of each epoch."
   ]
  },
  {
   "cell_type": "code",
   "execution_count": 11,
   "metadata": {},
   "outputs": [
    {
     "name": "stdout",
     "output_type": "stream",
     "text": [
      "Source path =  C:/Users/sebas/Case Study RNN/Project_data/train ; batch size = 32\n",
      "Epoch 1/30\n",
      "21/21 [==============================] - ETA: 0s - loss: 1.6610 - categorical_accuracy: 0.2624Source path =  C:/Users/sebas/Case Study RNN/Project_data/val ; batch size = 32\n",
      "21/21 [==============================] - 93s 4s/step - loss: 1.6610 - categorical_accuracy: 0.2624 - val_loss: 1.5831 - val_categorical_accuracy: 0.3500\n",
      "\n",
      "Epoch 00001: val_loss improved from inf to 1.58311, saving model to model_init_conv_lstm_2022-07-1115_30_26.276916\\model-00001-1.66099-0.26244-1.58311-0.35000.h5\n",
      "Epoch 2/30\n",
      "21/21 [==============================] - 80s 4s/step - loss: 1.5683 - categorical_accuracy: 0.2866 - val_loss: 1.5483 - val_categorical_accuracy: 0.2500\n",
      "\n",
      "Epoch 00002: val_loss improved from 1.58311 to 1.54831, saving model to model_init_conv_lstm_2022-07-1115_30_26.276916\\model-00002-1.56826-0.28658-1.54831-0.25000.h5\n",
      "Epoch 3/30\n",
      "21/21 [==============================] - 79s 4s/step - loss: 1.5063 - categorical_accuracy: 0.3183 - val_loss: 1.4771 - val_categorical_accuracy: 0.3400\n",
      "\n",
      "Epoch 00003: val_loss improved from 1.54831 to 1.47714, saving model to model_init_conv_lstm_2022-07-1115_30_26.276916\\model-00003-1.50633-0.31825-1.47714-0.34000.h5\n",
      "Epoch 4/30\n",
      "21/21 [==============================] - 74s 4s/step - loss: 1.5054 - categorical_accuracy: 0.3303 - val_loss: 1.4673 - val_categorical_accuracy: 0.4000\n",
      "\n",
      "Epoch 00004: val_loss improved from 1.47714 to 1.46725, saving model to model_init_conv_lstm_2022-07-1115_30_26.276916\\model-00004-1.50543-0.33032-1.46725-0.40000.h5\n",
      "Epoch 5/30\n",
      "21/21 [==============================] - 73s 4s/step - loss: 1.4532 - categorical_accuracy: 0.3680 - val_loss: 1.5110 - val_categorical_accuracy: 0.3300\n",
      "\n",
      "Epoch 00005: val_loss did not improve from 1.46725\n",
      "Epoch 6/30\n",
      "21/21 [==============================] - 73s 4s/step - loss: 1.4330 - categorical_accuracy: 0.3937 - val_loss: 1.4897 - val_categorical_accuracy: 0.3300\n",
      "\n",
      "Epoch 00006: val_loss did not improve from 1.46725\n",
      "\n",
      "Epoch 00006: ReduceLROnPlateau reducing learning rate to 0.0005000000237487257.\n",
      "Epoch 7/30\n",
      "21/21 [==============================] - 77s 4s/step - loss: 1.4010 - categorical_accuracy: 0.4193 - val_loss: 1.4569 - val_categorical_accuracy: 0.3300\n",
      "\n",
      "Epoch 00007: val_loss improved from 1.46725 to 1.45692, saving model to model_init_conv_lstm_2022-07-1115_30_26.276916\\model-00007-1.40104-0.41931-1.45692-0.33000.h5\n",
      "Epoch 8/30\n",
      "21/21 [==============================] - 77s 4s/step - loss: 1.3848 - categorical_accuracy: 0.4163 - val_loss: 1.4213 - val_categorical_accuracy: 0.3900\n",
      "\n",
      "Epoch 00008: val_loss improved from 1.45692 to 1.42133, saving model to model_init_conv_lstm_2022-07-1115_30_26.276916\\model-00008-1.38479-0.41629-1.42133-0.39000.h5\n",
      "Epoch 9/30\n",
      "21/21 [==============================] - 80s 4s/step - loss: 1.3760 - categorical_accuracy: 0.4344 - val_loss: 1.4483 - val_categorical_accuracy: 0.3800\n",
      "\n",
      "Epoch 00009: val_loss did not improve from 1.42133\n",
      "Epoch 10/30\n",
      "21/21 [==============================] - 72s 4s/step - loss: 1.3481 - categorical_accuracy: 0.4646 - val_loss: 1.4152 - val_categorical_accuracy: 0.3700\n",
      "\n",
      "Epoch 00010: val_loss improved from 1.42133 to 1.41515, saving model to model_init_conv_lstm_2022-07-1115_30_26.276916\\model-00010-1.34808-0.46456-1.41515-0.37000.h5\n",
      "Epoch 11/30\n",
      "21/21 [==============================] - 72s 4s/step - loss: 1.3248 - categorical_accuracy: 0.4736 - val_loss: 1.3623 - val_categorical_accuracy: 0.4300\n",
      "\n",
      "Epoch 00011: val_loss improved from 1.41515 to 1.36229, saving model to model_init_conv_lstm_2022-07-1115_30_26.276916\\model-00011-1.32482-0.47360-1.36229-0.43000.h5\n",
      "Epoch 12/30\n",
      "21/21 [==============================] - 69s 3s/step - loss: 1.2976 - categorical_accuracy: 0.4887 - val_loss: 1.4248 - val_categorical_accuracy: 0.4100\n",
      "\n",
      "Epoch 00012: val_loss did not improve from 1.36229\n",
      "Epoch 13/30\n",
      "21/21 [==============================] - 71s 4s/step - loss: 1.2895 - categorical_accuracy: 0.4962 - val_loss: 1.4641 - val_categorical_accuracy: 0.3900\n",
      "\n",
      "Epoch 00013: val_loss did not improve from 1.36229\n",
      "\n",
      "Epoch 00013: ReduceLROnPlateau reducing learning rate to 0.0002500000118743628.\n",
      "Epoch 14/30\n",
      "21/21 [==============================] - 72s 4s/step - loss: 1.2784 - categorical_accuracy: 0.4842 - val_loss: 1.4093 - val_categorical_accuracy: 0.4400\n",
      "\n",
      "Epoch 00014: val_loss did not improve from 1.36229\n",
      "Epoch 15/30\n",
      "21/21 [==============================] - 72s 4s/step - loss: 1.2518 - categorical_accuracy: 0.5068 - val_loss: 1.4043 - val_categorical_accuracy: 0.4600\n",
      "\n",
      "Epoch 00015: val_loss did not improve from 1.36229\n",
      "\n",
      "Epoch 00015: ReduceLROnPlateau reducing learning rate to 0.0001250000059371814.\n",
      "Epoch 16/30\n",
      "21/21 [==============================] - 70s 3s/step - loss: 1.2365 - categorical_accuracy: 0.5249 - val_loss: 1.3419 - val_categorical_accuracy: 0.4700\n",
      "\n",
      "Epoch 00016: val_loss improved from 1.36229 to 1.34189, saving model to model_init_conv_lstm_2022-07-1115_30_26.276916\\model-00016-1.23646-0.52489-1.34189-0.47000.h5\n",
      "Epoch 17/30\n",
      "21/21 [==============================] - 84s 4s/step - loss: 1.2525 - categorical_accuracy: 0.5204 - val_loss: 1.3772 - val_categorical_accuracy: 0.4300\n",
      "\n",
      "Epoch 00017: val_loss did not improve from 1.34189\n",
      "Epoch 18/30\n",
      "21/21 [==============================] - 89s 4s/step - loss: 1.2249 - categorical_accuracy: 0.5339 - val_loss: 1.3280 - val_categorical_accuracy: 0.5000\n",
      "\n",
      "Epoch 00018: val_loss improved from 1.34189 to 1.32800, saving model to model_init_conv_lstm_2022-07-1115_30_26.276916\\model-00018-1.22491-0.53394-1.32800-0.50000.h5\n",
      "Epoch 19/30\n",
      "21/21 [==============================] - 96s 5s/step - loss: 1.2151 - categorical_accuracy: 0.5264 - val_loss: 1.4150 - val_categorical_accuracy: 0.4100\n",
      "\n",
      "Epoch 00019: val_loss did not improve from 1.32800\n",
      "Epoch 20/30\n",
      "21/21 [==============================] - 84s 4s/step - loss: 1.2103 - categorical_accuracy: 0.5400 - val_loss: 1.3752 - val_categorical_accuracy: 0.4700\n",
      "\n",
      "Epoch 00020: val_loss did not improve from 1.32800\n",
      "\n",
      "Epoch 00020: ReduceLROnPlateau reducing learning rate to 6.25000029685907e-05.\n",
      "Epoch 21/30\n",
      "21/21 [==============================] - 92s 5s/step - loss: 1.1991 - categorical_accuracy: 0.5551 - val_loss: 1.3696 - val_categorical_accuracy: 0.4400\n",
      "\n",
      "Epoch 00021: val_loss did not improve from 1.32800\n",
      "Epoch 22/30\n",
      "21/21 [==============================] - 92s 5s/step - loss: 1.1941 - categorical_accuracy: 0.5551 - val_loss: 1.3566 - val_categorical_accuracy: 0.4200\n",
      "\n",
      "Epoch 00022: val_loss did not improve from 1.32800\n",
      "\n",
      "Epoch 00022: ReduceLROnPlateau reducing learning rate to 3.125000148429535e-05.\n",
      "Epoch 23/30\n",
      "21/21 [==============================] - 95s 5s/step - loss: 1.1905 - categorical_accuracy: 0.5505 - val_loss: 1.3082 - val_categorical_accuracy: 0.4900\n",
      "\n",
      "Epoch 00023: val_loss improved from 1.32800 to 1.30815, saving model to model_init_conv_lstm_2022-07-1115_30_26.276916\\model-00023-1.19054-0.55053-1.30815-0.49000.h5\n",
      "Epoch 24/30\n",
      "21/21 [==============================] - 88s 4s/step - loss: 1.1897 - categorical_accuracy: 0.5535 - val_loss: 1.4009 - val_categorical_accuracy: 0.4500\n",
      "\n",
      "Epoch 00024: val_loss did not improve from 1.30815\n",
      "Epoch 25/30\n",
      "21/21 [==============================] - 71s 4s/step - loss: 1.1881 - categorical_accuracy: 0.5520 - val_loss: 1.3664 - val_categorical_accuracy: 0.4600\n",
      "\n",
      "Epoch 00025: val_loss did not improve from 1.30815\n",
      "\n",
      "Epoch 00025: ReduceLROnPlateau reducing learning rate to 1.5625000742147677e-05.\n",
      "Epoch 26/30\n",
      "21/21 [==============================] - 72s 4s/step - loss: 1.1857 - categorical_accuracy: 0.5551 - val_loss: 1.4343 - val_categorical_accuracy: 0.4200\n",
      "\n",
      "Epoch 00026: val_loss did not improve from 1.30815\n",
      "Epoch 27/30\n",
      "21/21 [==============================] - 71s 4s/step - loss: 1.1852 - categorical_accuracy: 0.5505 - val_loss: 1.4016 - val_categorical_accuracy: 0.4300\n",
      "\n",
      "Epoch 00027: val_loss did not improve from 1.30815\n",
      "\n",
      "Epoch 00027: ReduceLROnPlateau reducing learning rate to 1e-05.\n",
      "Epoch 28/30\n",
      "21/21 [==============================] - 69s 3s/step - loss: 1.1842 - categorical_accuracy: 0.5490 - val_loss: 1.3124 - val_categorical_accuracy: 0.4700\n",
      "\n",
      "Epoch 00028: val_loss did not improve from 1.30815\n",
      "Epoch 29/30\n",
      "21/21 [==============================] - 71s 4s/step - loss: 1.1826 - categorical_accuracy: 0.5566 - val_loss: 1.3689 - val_categorical_accuracy: 0.4400\n",
      "\n",
      "Epoch 00029: val_loss did not improve from 1.30815\n",
      "Epoch 30/30\n",
      "21/21 [==============================] - 71s 4s/step - loss: 1.1822 - categorical_accuracy: 0.5596 - val_loss: 1.3184 - val_categorical_accuracy: 0.5100\n",
      "\n",
      "Epoch 00030: val_loss did not improve from 1.30815\n"
     ]
    }
   ],
   "source": [
    "history = model.fit(train_generator, steps_per_epoch=steps_per_epoch, epochs=num_epochs, verbose=1, \n",
    "                    callbacks=callbacks_list, validation_data=val_generator, \n",
    "                    validation_steps=validation_steps, \n",
    "                    class_weight=None, \n",
    "                    workers=1, \n",
    "                    initial_epoch=0)"
   ]
  },
  {
   "cell_type": "code",
   "execution_count": 12,
   "metadata": {},
   "outputs": [
    {
     "data": {
      "image/png": "[encoded data removed]",
      "text/plain": [
       "<Figure size 432x288 with 1 Axes>"
      ]
     },
     "metadata": {
      "needs_background": "light"
     },
     "output_type": "display_data"
    }
   ],
   "source": [
    "import matplotlib.pyplot as plt\n",
    "# Plot history: Categorical crossentropy & Accuracy\n",
    "plt.plot(history.history['loss'], label='Categorical crossentropy (training data)')\n",
    "plt.plot(history.history['val_loss'], label='Categorical crossentropy (validation data)')\n",
    "plt.plot(history.history['categorical_accuracy'], label='Categorical Accuracy (training data)')\n",
    "plt.plot(history.history['val_categorical_accuracy'], label='Categorical Accuracy (validation data)')\n",
    "plt.title('Model performance ')\n",
    "plt.ylabel('Loss value')\n",
    "plt.xlabel('No. epoch')\n",
    "plt.legend(loc=\"upper left\")\n",
    "plt.show()"
   ]
  },
  {
   "cell_type": "code",
   "execution_count": null,
   "metadata": {},
   "outputs": [],
   "source": []
  }
 ],
 "metadata": {
  "kernelspec": {
   "display_name": "Python 3 (ipykernel)",
   "language": "python",
   "name": "python3"
  },
  "language_info": {
   "codemirror_mode": {
    "name": "ipython",
    "version": 3
   },
   "file_extension": ".py",
   "mimetype": "text/x-python",
   "name": "python",
   "nbconvert_exporter": "python",
   "pygments_lexer": "ipython3",
   "version": "3.9.12"
  }
 },
 "nbformat": 4,
 "nbformat_minor": 2
}
