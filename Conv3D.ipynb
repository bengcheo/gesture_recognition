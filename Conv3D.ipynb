{
 "cells": [
  {
   "cell_type": "markdown",
   "metadata": {},
   "source": [
    "# Gesture Recognition\n",
    "In this group project, you are going to build a 3D Conv model that will be able to predict the 5 gestures correctly. Please import the following libraries to get started."
   ]
  },
  {
   "cell_type": "code",
   "execution_count": 1,
   "metadata": {},
   "outputs": [],
   "source": [
    "import numpy as np\n",
    "import os\n",
    "#from scipy.misc import imread, imresize\n",
    "import skimage\n",
    "import datetime\n",
    "import os"
   ]
  },
  {
   "cell_type": "markdown",
   "metadata": {},
   "source": [
    "We set the random seed so that the results don't vary drastically."
   ]
  },
  {
   "cell_type": "code",
   "execution_count": 2,
   "metadata": {},
   "outputs": [
    {
     "name": "stdout",
     "output_type": "stream",
     "text": [
      "Default GPU Device: /device:GPU:0\n"
     ]
    }
   ],
   "source": [
    "np.random.seed(30)\n",
    "import random as rn\n",
    "rn.seed(30)\n",
    "from keras import backend as K\n",
    "import tensorflow as tf\n",
    "\n",
    "if tf.test.gpu_device_name(): \n",
    "    print('Default GPU Device: {}'.format(tf.test.gpu_device_name()))\n",
    "else:\n",
    "    print(\"Please install GPU version of TF\")\n",
    "tf.random.set_seed(30)"
   ]
  },
  {
   "cell_type": "markdown",
   "metadata": {},
   "source": [
    "In this block, you read the folder names for training and validation. You also set the `batch_size` here. Note that you set the batch size in such a way that you are able to use the GPU in full capacity. You keep increasing the batch size until the machine throws an error."
   ]
  },
  {
   "cell_type": "code",
   "execution_count": 3,
   "metadata": {},
   "outputs": [],
   "source": [
    "train_doc = np.random.permutation(open('C:/Users/sebas/Case Study RNN/Project_data/train.csv').readlines())\n",
    "val_doc = np.random.permutation(open('C:/Users/sebas/Case Study RNN/Project_data/val.csv').readlines())\n",
    "batch_size = 8 #experiment with the batch size"
   ]
  },
  {
   "cell_type": "markdown",
   "metadata": {},
   "source": [
    "## Generator\n",
    "This is one of the most important part of the code. The overall structure of the generator has been given. In the generator, you are going to preprocess the images as you have images of 2 different dimensions as well as create a batch of video frames. You have to experiment with some of the parts of the generator function such that you get high accuracy."
   ]
  },
  {
   "cell_type": "code",
   "execution_count": 4,
   "metadata": {},
   "outputs": [],
   "source": [
    "def generator(source_path, folder_list, batch_size):\n",
    "    print( 'Source path = ', source_path, '; batch size =', batch_size)\n",
    "    img_idx = [i for i in range(0,15,1)]\n",
    "    while True:\n",
    "        t = np.random.permutation(folder_list)\n",
    "        num_batches = int(len(t)/batch_size)\n",
    "        for batch in range(num_batches):\n",
    "            batch_data = np.zeros((batch_size,15,84,84,3))\n",
    "            batch_labels = np.zeros((batch_size,5))\n",
    "            for folder in range(batch_size):\n",
    "                imgs = os.listdir(source_path+'/'+ t[folder + (batch*batch_size)].split(';')[0])\n",
    "                for idx,item in enumerate(img_idx):\n",
    "                    image = skimage.io.imread(source_path+'/'+ t[folder + (batch*batch_size)].strip().split(';')[0]+'/'+imgs[item]).astype(np.float32)\n",
    "                    image = skimage.transform.resize(image,(84,84)).astype(np.float32)\n",
    "                    \n",
    "                    batch_data[folder,idx,:,:,0] = image[:,:,0]/255\n",
    "                    batch_data[folder,idx,:,:,1] = image[:,:,1]/255\n",
    "                    batch_data[folder,idx,:,:,2] = image[:,:,2]/255\n",
    "                    \n",
    "                batch_labels[folder, int(t[folder + (batch*batch_size)].strip().split(';')[2])] = 1\n",
    "            yield batch_data, batch_labels\n",
    "\n",
    "        if (len(t)%batch_size) != 0:\n",
    "            batch_data = np.zeros((len(t)%batch_size,15,84,84,3))\n",
    "            batch_labels = np.zeros((len(t)%batch_size,5))\n",
    "            for folder in range(len(t)%batch_size):\n",
    "                imgs = os.listdir(source_path+'/'+ t[folder + (num_batches*batch_size)].split(';')[0])\n",
    "                for idx,item in enumerate(img_idx):\n",
    "                    image = skimage.io.imread(source_path+'/'+ t[folder + (num_batches*batch_size)].strip().split(';')[0]+'/'+imgs[item]).astype(np.float32)\n",
    "                    image = skimage.transform.resize(image,(84,84)).astype(np.float32)\n",
    "\n",
    "                    batch_data[folder,idx,:,:,0] = image[:,:,0]/255\n",
    "                    batch_data[folder,idx,:,:,1] = image[:,:,1]/255\n",
    "                    batch_data[folder,idx,:,:,2] = image[:,:,2]/255\n",
    "\n",
    "                batch_labels[folder, int(t[folder + (num_batches*batch_size)].strip().split(';')[2])] = 1\n",
    "\n",
    "            yield batch_data, batch_labels"
   ]
  },
  {
   "cell_type": "code",
   "execution_count": 5,
   "metadata": {},
   "outputs": [
    {
     "name": "stdout",
     "output_type": "stream",
     "text": [
      "# training sequences = 663\n",
      "# validation sequences = 100\n",
      "# epochs = 20\n"
     ]
    }
   ],
   "source": [
    "curr_dt_time = datetime.datetime.now()\n",
    "train_path = 'C:/Users/sebas/Case Study RNN/Project_data/train'\n",
    "val_path = 'C:/Users/sebas/Case Study RNN/Project_data/val'\n",
    "num_train_sequences = len(train_doc)\n",
    "print('# training sequences =', num_train_sequences)\n",
    "num_val_sequences = len(val_doc)\n",
    "print('# validation sequences =', num_val_sequences)\n",
    "num_epochs = 20\n",
    "print ('# epochs =', num_epochs)"
   ]
  },
  {
   "cell_type": "markdown",
   "metadata": {},
   "source": [
    "## Model\n",
    "Here you make the model using different functionalities that Keras provides. You might want to use `TimeDistributed`, `GRU` and other RNN structures after doing transfer learning. Also remember that the last layer is the softmax. Remember that the network is designed in such a way that the model is able to fit in the memory of the webcam."
   ]
  },
  {
   "cell_type": "code",
   "execution_count": 6,
   "metadata": {},
   "outputs": [],
   "source": [
    "from keras.models import Sequential, Model\n",
    "from keras.layers import Dense, GRU, Dropout, Flatten, TimeDistributed, Activation, Conv3D, MaxPooling3D, BatchNormalization\n",
    "from keras.callbacks import ModelCheckpoint, ReduceLROnPlateau\n",
    "from keras import optimizers\n",
    "    \n",
    "model = Sequential()\n",
    "model.add(Conv3D(64, (3,3,3), padding='same', input_shape=(15,84,84,3)))\n",
    "model.add(Activation('relu'))\n",
    "model.add(MaxPooling3D(pool_size=(2, 2, 2), strides=(2,2,2)))\n",
    "\n",
    "model.add(Conv3D(32, (2, 2, 2), padding='same'))\n",
    "model.add(Activation('relu'))\n",
    "model.add(BatchNormalization())\n",
    "model.add(MaxPooling3D(pool_size=(2, 2, 2)))\n",
    "\n",
    "model.add(Conv3D(64, (2, 2, 2), padding='same'))\n",
    "model.add(Activation('relu'))\n",
    "model.add(MaxPooling3D(pool_size=(2, 2, 2)))\n",
    "\n",
    "model.add(Flatten())\n",
    "model.add(Dense(128,activation='relu'))\n",
    "model.add(Dense(5,activation='softmax'))"
   ]
  },
  {
   "cell_type": "markdown",
   "metadata": {},
   "source": [
    "Now that you have written the model, the next step is to `compile` the model. When you print the `summary` of the model, you'll see the total number of parameters you have to train."
   ]
  },
  {
   "cell_type": "code",
   "execution_count": 7,
   "metadata": {},
   "outputs": [
    {
     "name": "stdout",
     "output_type": "stream",
     "text": [
      "Model: \"sequential\"\n",
      "_________________________________________________________________\n",
      "Layer (type)                 Output Shape              Param #   \n",
      "=================================================================\n",
      "conv3d (Conv3D)              (None, 15, 84, 84, 64)    5248      \n",
      "_________________________________________________________________\n",
      "activation (Activation)      (None, 15, 84, 84, 64)    0         \n",
      "_________________________________________________________________\n",
      "max_pooling3d (MaxPooling3D) (None, 7, 42, 42, 64)     0         \n",
      "_________________________________________________________________\n",
      "conv3d_1 (Conv3D)            (None, 7, 42, 42, 32)     16416     \n",
      "_________________________________________________________________\n",
      "activation_1 (Activation)    (None, 7, 42, 42, 32)     0         \n",
      "_________________________________________________________________\n",
      "batch_normalization (BatchNo (None, 7, 42, 42, 32)     128       \n",
      "_________________________________________________________________\n",
      "max_pooling3d_1 (MaxPooling3 (None, 3, 21, 21, 32)     0         \n",
      "_________________________________________________________________\n",
      "conv3d_2 (Conv3D)            (None, 3, 21, 21, 64)     16448     \n",
      "_________________________________________________________________\n",
      "activation_2 (Activation)    (None, 3, 21, 21, 64)     0         \n",
      "_________________________________________________________________\n",
      "max_pooling3d_2 (MaxPooling3 (None, 1, 10, 10, 64)     0         \n",
      "_________________________________________________________________\n",
      "flatten (Flatten)            (None, 6400)              0         \n",
      "_________________________________________________________________\n",
      "dense (Dense)                (None, 128)               819328    \n",
      "_________________________________________________________________\n",
      "dense_1 (Dense)              (None, 5)                 645       \n",
      "=================================================================\n",
      "Total params: 858,213\n",
      "Trainable params: 858,149\n",
      "Non-trainable params: 64\n",
      "_________________________________________________________________\n",
      "None\n"
     ]
    }
   ],
   "source": [
    "model.compile(optimizer='adam', loss='categorical_crossentropy', metrics=['categorical_accuracy'])\n",
    "print (model.summary())"
   ]
  },
  {
   "cell_type": "markdown",
   "metadata": {},
   "source": [
    "Let us create the `train_generator` and the `val_generator` which will be used in `.fit_generator`."
   ]
  },
  {
   "cell_type": "code",
   "execution_count": 8,
   "metadata": {},
   "outputs": [],
   "source": [
    "train_generator = generator(train_path, train_doc, batch_size)\n",
    "val_generator = generator(val_path, val_doc, batch_size)"
   ]
  },
  {
   "cell_type": "code",
   "execution_count": 9,
   "metadata": {},
   "outputs": [],
   "source": [
    "model_name = 'model_init_conv_lstm' + '_' + str(curr_dt_time).replace(' ','').replace(':','_') + '/'\n",
    "    \n",
    "if not os.path.exists(model_name):\n",
    "    os.mkdir(model_name)\n",
    "        \n",
    "filepath = model_name + 'model-{epoch:05d}-{loss:.5f}-{categorical_accuracy:.5f}-{val_loss:.5f}-{val_categorical_accuracy:.5f}.h5'\n",
    "\n",
    "checkpoint = ModelCheckpoint(filepath, monitor='val_loss', verbose=1, save_best_only= True, save_weights_only= True, mode='auto')\n",
    "\n",
    "LR = ReduceLROnPlateau(monitor='val_loss', factor=0.5, patience=2, verbose=1, mode='min', min_delta=0.0001, cooldown=0, min_lr=0.00001)\n",
    "callbacks_list = [checkpoint, LR]"
   ]
  },
  {
   "cell_type": "code",
   "execution_count": 10,
   "metadata": {},
   "outputs": [],
   "source": [
    "if (num_train_sequences%batch_size) == 0:\n",
    "    steps_per_epoch = int(num_train_sequences/batch_size)\n",
    "else:\n",
    "    steps_per_epoch = (num_train_sequences//batch_size) + 1\n",
    "\n",
    "if (num_val_sequences%batch_size) == 0:\n",
    "    validation_steps = int(num_val_sequences/batch_size)\n",
    "else:\n",
    "    validation_steps = (num_val_sequences//batch_size) + 1"
   ]
  },
  {
   "cell_type": "markdown",
   "metadata": {},
   "source": [
    "Let us now fit the model. This will start training the model and with the help of the checkpoints, you'll be able to save the model at the end of each epoch."
   ]
  },
  {
   "cell_type": "code",
   "execution_count": 11,
   "metadata": {},
   "outputs": [
    {
     "name": "stdout",
     "output_type": "stream",
     "text": [
      "Source path =  C:/Users/sebas/Case Study RNN/Project_data/train ; batch size = 8\n",
      "Epoch 1/20\n",
      "83/83 [==============================] - ETA: 0s - loss: 1.5490 - categorical_accuracy: 0.3967Source path =  C:/Users/sebas/Case Study RNN/Project_data/val ; batch size = 8\n",
      "83/83 [==============================] - 81s 892ms/step - loss: 1.5490 - categorical_accuracy: 0.3967 - val_loss: 1.4386 - val_categorical_accuracy: 0.5300\n",
      "\n",
      "Epoch 00001: val_loss improved from inf to 1.43857, saving model to model_init_conv_lstm_2022-07-1122_14_38.248876\\model-00001-1.54899-0.39668-1.43857-0.53000.h5\n",
      "Epoch 2/20\n",
      "83/83 [==============================] - 70s 855ms/step - loss: 0.8788 - categorical_accuracy: 0.6682 - val_loss: 1.2001 - val_categorical_accuracy: 0.5500\n",
      "\n",
      "Epoch 00002: val_loss improved from 1.43857 to 1.20008, saving model to model_init_conv_lstm_2022-07-1122_14_38.248876\\model-00002-0.87884-0.66817-1.20008-0.55000.h5\n",
      "Epoch 3/20\n",
      "83/83 [==============================] - 64s 776ms/step - loss: 0.6475 - categorical_accuracy: 0.7406 - val_loss: 1.1701 - val_categorical_accuracy: 0.5300\n",
      "\n",
      "Epoch 00003: val_loss improved from 1.20008 to 1.17014, saving model to model_init_conv_lstm_2022-07-1122_14_38.248876\\model-00003-0.64748-0.74057-1.17014-0.53000.h5\n",
      "Epoch 4/20\n",
      "83/83 [==============================] - 72s 882ms/step - loss: 0.4410 - categorical_accuracy: 0.8341 - val_loss: 1.0344 - val_categorical_accuracy: 0.5900\n",
      "\n",
      "Epoch 00004: val_loss improved from 1.17014 to 1.03445, saving model to model_init_conv_lstm_2022-07-1122_14_38.248876\\model-00004-0.44096-0.83409-1.03445-0.59000.h5\n",
      "Epoch 5/20\n",
      "83/83 [==============================] - 70s 845ms/step - loss: 0.3164 - categorical_accuracy: 0.8763 - val_loss: 0.9094 - val_categorical_accuracy: 0.7100\n",
      "\n",
      "Epoch 00005: val_loss improved from 1.03445 to 0.90944, saving model to model_init_conv_lstm_2022-07-1122_14_38.248876\\model-00005-0.31636-0.87632-0.90944-0.71000.h5\n",
      "Epoch 6/20\n",
      "83/83 [==============================] - 65s 786ms/step - loss: 0.1926 - categorical_accuracy: 0.9246 - val_loss: 1.3405 - val_categorical_accuracy: 0.6000\n",
      "\n",
      "Epoch 00006: val_loss did not improve from 0.90944\n",
      "Epoch 7/20\n",
      "83/83 [==============================] - 72s 873ms/step - loss: 0.1714 - categorical_accuracy: 0.9457 - val_loss: 1.1981 - val_categorical_accuracy: 0.7200\n",
      "\n",
      "Epoch 00007: val_loss did not improve from 0.90944\n",
      "\n",
      "Epoch 00007: ReduceLROnPlateau reducing learning rate to 0.0005000000237487257.\n",
      "Epoch 8/20\n",
      "83/83 [==============================] - 78s 943ms/step - loss: 0.0399 - categorical_accuracy: 0.9910 - val_loss: 0.9929 - val_categorical_accuracy: 0.7500\n",
      "\n",
      "Epoch 00008: val_loss did not improve from 0.90944\n",
      "Epoch 9/20\n",
      "83/83 [==============================] - 81s 984ms/step - loss: 0.0184 - categorical_accuracy: 1.0000 - val_loss: 0.8512 - val_categorical_accuracy: 0.8300\n",
      "\n",
      "Epoch 00009: val_loss improved from 0.90944 to 0.85123, saving model to model_init_conv_lstm_2022-07-1122_14_38.248876\\model-00009-0.01838-1.00000-0.85123-0.83000.h5\n",
      "Epoch 10/20\n",
      "83/83 [==============================] - 79s 957ms/step - loss: 0.0104 - categorical_accuracy: 0.9985 - val_loss: 0.8458 - val_categorical_accuracy: 0.7900\n",
      "\n",
      "Epoch 00010: val_loss improved from 0.85123 to 0.84583, saving model to model_init_conv_lstm_2022-07-1122_14_38.248876\\model-00010-0.01043-0.99849-0.84583-0.79000.h5\n",
      "Epoch 11/20\n",
      "83/83 [==============================] - 68s 832ms/step - loss: 0.0061 - categorical_accuracy: 1.0000 - val_loss: 0.8460 - val_categorical_accuracy: 0.8100\n",
      "\n",
      "Epoch 00011: val_loss did not improve from 0.84583\n",
      "Epoch 12/20\n",
      "83/83 [==============================] - 68s 825ms/step - loss: 0.0052 - categorical_accuracy: 1.0000 - val_loss: 0.8420 - val_categorical_accuracy: 0.8100\n",
      "\n",
      "Epoch 00012: val_loss improved from 0.84583 to 0.84195, saving model to model_init_conv_lstm_2022-07-1122_14_38.248876\\model-00012-0.00521-1.00000-0.84195-0.81000.h5\n",
      "Epoch 13/20\n",
      "83/83 [==============================] - 67s 817ms/step - loss: 0.0030 - categorical_accuracy: 1.0000 - val_loss: 1.2458 - val_categorical_accuracy: 0.8100\n",
      "\n",
      "Epoch 00013: val_loss did not improve from 0.84195\n",
      "Epoch 14/20\n",
      "83/83 [==============================] - 65s 788ms/step - loss: 0.0029 - categorical_accuracy: 1.0000 - val_loss: 1.0977 - val_categorical_accuracy: 0.8200\n",
      "\n",
      "Epoch 00014: val_loss did not improve from 0.84195\n",
      "\n",
      "Epoch 00014: ReduceLROnPlateau reducing learning rate to 0.0002500000118743628.\n",
      "Epoch 15/20\n",
      "83/83 [==============================] - 65s 795ms/step - loss: 0.0028 - categorical_accuracy: 1.0000 - val_loss: 1.4969 - val_categorical_accuracy: 0.7700\n",
      "\n",
      "Epoch 00015: val_loss did not improve from 0.84195\n",
      "Epoch 16/20\n",
      "83/83 [==============================] - 67s 820ms/step - loss: 0.0020 - categorical_accuracy: 1.0000 - val_loss: 1.1117 - val_categorical_accuracy: 0.7900\n",
      "\n",
      "Epoch 00016: val_loss did not improve from 0.84195\n",
      "\n",
      "Epoch 00016: ReduceLROnPlateau reducing learning rate to 0.0001250000059371814.\n",
      "Epoch 17/20\n",
      "83/83 [==============================] - 69s 839ms/step - loss: 0.0020 - categorical_accuracy: 1.0000 - val_loss: 0.7051 - val_categorical_accuracy: 0.8500\n",
      "\n",
      "Epoch 00017: val_loss improved from 0.84195 to 0.70515, saving model to model_init_conv_lstm_2022-07-1122_14_38.248876\\model-00017-0.00201-1.00000-0.70515-0.85000.h5\n",
      "Epoch 18/20\n",
      "83/83 [==============================] - 73s 885ms/step - loss: 0.0015 - categorical_accuracy: 1.0000 - val_loss: 1.1455 - val_categorical_accuracy: 0.8100\n",
      "\n",
      "Epoch 00018: val_loss did not improve from 0.70515\n",
      "Epoch 19/20\n",
      "83/83 [==============================] - 69s 844ms/step - loss: 0.0014 - categorical_accuracy: 1.0000 - val_loss: 1.4169 - val_categorical_accuracy: 0.7800\n",
      "\n",
      "Epoch 00019: val_loss did not improve from 0.70515\n",
      "\n",
      "Epoch 00019: ReduceLROnPlateau reducing learning rate to 6.25000029685907e-05.\n",
      "Epoch 20/20\n",
      "83/83 [==============================] - 68s 823ms/step - loss: 0.0016 - categorical_accuracy: 1.0000 - val_loss: 1.0102 - val_categorical_accuracy: 0.8300\n",
      "\n",
      "Epoch 00020: val_loss did not improve from 0.70515\n"
     ]
    }
   ],
   "source": [
    "history = model.fit(train_generator, steps_per_epoch=steps_per_epoch, epochs=num_epochs, verbose=1, \n",
    "                    callbacks=callbacks_list, \n",
    "                    validation_data=val_generator, \n",
    "                    validation_steps=validation_steps, \n",
    "                    class_weight=None, \n",
    "                    workers=1, \n",
    "                    initial_epoch=0)"
   ]
  },
  {
   "cell_type": "code",
   "execution_count": 12,
   "metadata": {},
   "outputs": [
    {
     "data": {
      "image/png": "[encoded data removed]",
      "text/plain": [
       "<Figure size 432x288 with 1 Axes>"
      ]
     },
     "metadata": {
      "needs_background": "light"
     },
     "output_type": "display_data"
    }
   ],
   "source": [
    "import matplotlib.pyplot as plt\n",
    "# Plot history: Categorical crossentropy & Accuracy\n",
    "plt.plot(history.history['loss'], label='Categorical crossentropy (training data)')\n",
    "plt.plot(history.history['val_loss'], label='Categorical crossentropy (validation data)')\n",
    "plt.plot(history.history['categorical_accuracy'], label='Categorical Accuracy (training data)')\n",
    "plt.plot(history.history['val_categorical_accuracy'], label='Categorical Accuracy (validation data)')\n",
    "plt.title('Model performance ')\n",
    "plt.ylabel('Loss value')\n",
    "plt.xlabel('No. epoch')\n",
    "plt.legend(loc=\"upper left\")\n",
    "plt.show()"
   ]
  },
  {
   "cell_type": "markdown",
   "metadata": {},
   "source": [
    "## Adapted Model"
   ]
  },
  {
   "cell_type": "code",
   "execution_count": 20,
   "metadata": {},
   "outputs": [],
   "source": [
    "model = Sequential()\n",
    "model.add(Conv3D(64, (3,3,3), strides=(1,1,1), padding='same', input_shape=(15,84,84,3)))\n",
    "model.add(Activation('relu'))\n",
    "model.add(BatchNormalization())\n",
    "model.add(MaxPooling3D(pool_size=(2, 2, 2), strides=(2,2,2)))\n",
    "\n",
    "model.add(Conv3D(32, (2, 2, 2), padding='same'))\n",
    "model.add(Activation('relu'))\n",
    "model.add(BatchNormalization())\n",
    "model.add(MaxPooling3D(pool_size=(2, 2, 2), strides=(2,2,2)))\n",
    "\n",
    "model.add(Conv3D(64, (2, 2, 2), padding='same'))\n",
    "model.add(Activation('relu'))\n",
    "model.add(BatchNormalization())\n",
    "model.add(MaxPooling3D(pool_size=(2, 2, 2), strides=(2,2,2)))\n",
    "\n",
    "model.add(Conv3D(128, (2, 2, 2), padding='same'))\n",
    "model.add(Activation('relu'))\n",
    "model.add(BatchNormalization())\n",
    "model.add(MaxPooling3D(pool_size=(1, 1, 1), strides=(1,1,1)))\n",
    "\n",
    "model.add(Flatten())\n",
    "model.add(Dense(128,activation='relu'))\n",
    "model.add(BatchNormalization())\n",
    "model.add(Dropout(0.5))\n",
    "\n",
    "model.add(Dense(64,activation='relu'))\n",
    "model.add(BatchNormalization())\n",
    "model.add(Dropout(0.25))\n",
    "\n",
    "model.add(Dense(5,activation='softmax'))"
   ]
  },
  {
   "cell_type": "code",
   "execution_count": 21,
   "metadata": {},
   "outputs": [
    {
     "name": "stdout",
     "output_type": "stream",
     "text": [
      "Model: \"sequential_4\"\n",
      "_________________________________________________________________\n",
      "Layer (type)                 Output Shape              Param #   \n",
      "=================================================================\n",
      "conv3d_15 (Conv3D)           (None, 15, 84, 84, 64)    5248      \n",
      "_________________________________________________________________\n",
      "activation_15 (Activation)   (None, 15, 84, 84, 64)    0         \n",
      "_________________________________________________________________\n",
      "batch_normalization_14 (Batc (None, 15, 84, 84, 64)    256       \n",
      "_________________________________________________________________\n",
      "max_pooling3d_15 (MaxPooling (None, 7, 42, 42, 64)     0         \n",
      "_________________________________________________________________\n",
      "conv3d_16 (Conv3D)           (None, 7, 42, 42, 32)     16416     \n",
      "_________________________________________________________________\n",
      "activation_16 (Activation)   (None, 7, 42, 42, 32)     0         \n",
      "_________________________________________________________________\n",
      "batch_normalization_15 (Batc (None, 7, 42, 42, 32)     128       \n",
      "_________________________________________________________________\n",
      "max_pooling3d_16 (MaxPooling (None, 3, 21, 21, 32)     0         \n",
      "_________________________________________________________________\n",
      "conv3d_17 (Conv3D)           (None, 3, 21, 21, 64)     16448     \n",
      "_________________________________________________________________\n",
      "activation_17 (Activation)   (None, 3, 21, 21, 64)     0         \n",
      "_________________________________________________________________\n",
      "batch_normalization_16 (Batc (None, 3, 21, 21, 64)     256       \n",
      "_________________________________________________________________\n",
      "max_pooling3d_17 (MaxPooling (None, 1, 10, 10, 64)     0         \n",
      "_________________________________________________________________\n",
      "conv3d_18 (Conv3D)           (None, 1, 10, 10, 128)    65664     \n",
      "_________________________________________________________________\n",
      "activation_18 (Activation)   (None, 1, 10, 10, 128)    0         \n",
      "_________________________________________________________________\n",
      "batch_normalization_17 (Batc (None, 1, 10, 10, 128)    512       \n",
      "_________________________________________________________________\n",
      "max_pooling3d_18 (MaxPooling (None, 1, 10, 10, 128)    0         \n",
      "_________________________________________________________________\n",
      "flatten_2 (Flatten)          (None, 12800)             0         \n",
      "_________________________________________________________________\n",
      "dense_4 (Dense)              (None, 128)               1638528   \n",
      "_________________________________________________________________\n",
      "batch_normalization_18 (Batc (None, 128)               512       \n",
      "_________________________________________________________________\n",
      "dropout_1 (Dropout)          (None, 128)               0         \n",
      "_________________________________________________________________\n",
      "dense_5 (Dense)              (None, 64)                8256      \n",
      "_________________________________________________________________\n",
      "batch_normalization_19 (Batc (None, 64)                256       \n",
      "_________________________________________________________________\n",
      "dropout_2 (Dropout)          (None, 64)                0         \n",
      "_________________________________________________________________\n",
      "dense_6 (Dense)              (None, 5)                 325       \n",
      "=================================================================\n",
      "Total params: 1,752,805\n",
      "Trainable params: 1,751,845\n",
      "Non-trainable params: 960\n",
      "_________________________________________________________________\n"
     ]
    }
   ],
   "source": [
    "model.compile(optimizer='adam', loss='categorical_crossentropy', metrics=['categorical_accuracy'])\n",
    "model.summary() #with dropouts and batch normalization"
   ]
  },
  {
   "cell_type": "code",
   "execution_count": 22,
   "metadata": {},
   "outputs": [
    {
     "name": "stdout",
     "output_type": "stream",
     "text": [
      "Epoch 1/20\n",
      "83/83 [==============================] - 64s 765ms/step - loss: 1.8252 - categorical_accuracy: 0.3348 - val_loss: 2.7364 - val_categorical_accuracy: 0.1800\n",
      "\n",
      "Epoch 00001: val_loss did not improve from 0.70515\n",
      "Epoch 2/20\n",
      "83/83 [==============================] - 70s 850ms/step - loss: 1.4828 - categorical_accuracy: 0.4449 - val_loss: 4.4099 - val_categorical_accuracy: 0.2000\n",
      "\n",
      "Epoch 00002: val_loss did not improve from 0.70515\n",
      "Epoch 3/20\n",
      "83/83 [==============================] - 71s 861ms/step - loss: 1.2828 - categorical_accuracy: 0.5204 - val_loss: 4.2591 - val_categorical_accuracy: 0.1900\n",
      "\n",
      "Epoch 00003: val_loss did not improve from 0.70515\n",
      "\n",
      "Epoch 00003: ReduceLROnPlateau reducing learning rate to 0.0005000000237487257.\n",
      "Epoch 4/20\n",
      "83/83 [==============================] - 65s 794ms/step - loss: 1.1620 - categorical_accuracy: 0.5445 - val_loss: 2.9526 - val_categorical_accuracy: 0.2900\n",
      "\n",
      "Epoch 00004: val_loss did not improve from 0.70515\n",
      "Epoch 5/20\n",
      "83/83 [==============================] - 71s 862ms/step - loss: 0.9888 - categorical_accuracy: 0.6154 - val_loss: 2.0988 - val_categorical_accuracy: 0.3800\n",
      "\n",
      "Epoch 00005: val_loss did not improve from 0.70515\n",
      "Epoch 6/20\n",
      "83/83 [==============================] - 70s 848ms/step - loss: 0.9368 - categorical_accuracy: 0.6320 - val_loss: 1.8569 - val_categorical_accuracy: 0.4400\n",
      "\n",
      "Epoch 00006: val_loss did not improve from 0.70515\n",
      "Epoch 7/20\n",
      "83/83 [==============================] - 68s 833ms/step - loss: 0.8154 - categorical_accuracy: 0.7119 - val_loss: 1.6788 - val_categorical_accuracy: 0.4700\n",
      "\n",
      "Epoch 00007: val_loss did not improve from 0.70515\n",
      "Epoch 8/20\n",
      "83/83 [==============================] - 69s 837ms/step - loss: 0.8249 - categorical_accuracy: 0.6863 - val_loss: 1.2385 - val_categorical_accuracy: 0.5800\n",
      "\n",
      "Epoch 00008: val_loss did not improve from 0.70515\n",
      "Epoch 9/20\n",
      "83/83 [==============================] - 65s 788ms/step - loss: 0.7712 - categorical_accuracy: 0.6923 - val_loss: 1.1324 - val_categorical_accuracy: 0.6100\n",
      "\n",
      "Epoch 00009: val_loss did not improve from 0.70515\n",
      "Epoch 10/20\n",
      "83/83 [==============================] - 65s 785ms/step - loss: 0.6346 - categorical_accuracy: 0.7753 - val_loss: 0.9650 - val_categorical_accuracy: 0.6600\n",
      "\n",
      "Epoch 00010: val_loss did not improve from 0.70515\n",
      "Epoch 11/20\n",
      "83/83 [==============================] - 68s 828ms/step - loss: 0.6032 - categorical_accuracy: 0.7753 - val_loss: 0.8913 - val_categorical_accuracy: 0.7100\n",
      "\n",
      "Epoch 00011: val_loss did not improve from 0.70515\n",
      "Epoch 12/20\n",
      "83/83 [==============================] - 70s 854ms/step - loss: 0.5205 - categorical_accuracy: 0.8115 - val_loss: 1.1175 - val_categorical_accuracy: 0.6200\n",
      "\n",
      "Epoch 00012: val_loss did not improve from 0.70515\n",
      "Epoch 13/20\n",
      "83/83 [==============================] - 66s 799ms/step - loss: 0.5069 - categorical_accuracy: 0.8145 - val_loss: 0.8174 - val_categorical_accuracy: 0.7400\n",
      "\n",
      "Epoch 00013: val_loss did not improve from 0.70515\n",
      "Epoch 14/20\n",
      "83/83 [==============================] - 69s 843ms/step - loss: 0.4190 - categorical_accuracy: 0.8522 - val_loss: 0.9354 - val_categorical_accuracy: 0.7000\n",
      "\n",
      "Epoch 00014: val_loss did not improve from 0.70515\n",
      "Epoch 15/20\n",
      "83/83 [==============================] - 70s 850ms/step - loss: 0.3840 - categorical_accuracy: 0.8627 - val_loss: 0.6279 - val_categorical_accuracy: 0.7900\n",
      "\n",
      "Epoch 00015: val_loss improved from 0.70515 to 0.62788, saving model to model_init_conv_lstm_2022-07-1122_14_38.248876\\model-00015-0.38401-0.86275-0.62788-0.79000.h5\n",
      "Epoch 16/20\n",
      "83/83 [==============================] - 68s 832ms/step - loss: 0.4001 - categorical_accuracy: 0.8522 - val_loss: 0.6678 - val_categorical_accuracy: 0.8200\n",
      "\n",
      "Epoch 00016: val_loss did not improve from 0.62788\n",
      "Epoch 17/20\n",
      "83/83 [==============================] - 70s 857ms/step - loss: 0.3358 - categorical_accuracy: 0.8854 - val_loss: 1.2493 - val_categorical_accuracy: 0.5700\n",
      "\n",
      "Epoch 00017: val_loss did not improve from 0.62788\n",
      "\n",
      "Epoch 00017: ReduceLROnPlateau reducing learning rate to 0.0002500000118743628.\n",
      "Epoch 18/20\n",
      "83/83 [==============================] - 69s 837ms/step - loss: 0.2820 - categorical_accuracy: 0.9005 - val_loss: 0.5581 - val_categorical_accuracy: 0.8000\n",
      "\n",
      "Epoch 00018: val_loss improved from 0.62788 to 0.55811, saving model to model_init_conv_lstm_2022-07-1122_14_38.248876\\model-00018-0.28199-0.90045-0.55811-0.80000.h5\n",
      "Epoch 19/20\n",
      "83/83 [==============================] - 74s 896ms/step - loss: 0.2538 - categorical_accuracy: 0.9186 - val_loss: 0.6019 - val_categorical_accuracy: 0.8000\n",
      "\n",
      "Epoch 00019: val_loss did not improve from 0.55811\n",
      "Epoch 20/20\n",
      "83/83 [==============================] - 71s 865ms/step - loss: 0.2731 - categorical_accuracy: 0.9095 - val_loss: 0.5252 - val_categorical_accuracy: 0.8400\n",
      "\n",
      "Epoch 00020: val_loss improved from 0.55811 to 0.52515, saving model to model_init_conv_lstm_2022-07-1122_14_38.248876\\model-00020-0.27311-0.90950-0.52515-0.84000.h5\n"
     ]
    }
   ],
   "source": [
    "history = model.fit(train_generator, steps_per_epoch=steps_per_epoch, epochs=num_epochs, verbose=1, \n",
    "                    callbacks=callbacks_list, \n",
    "                    validation_data=val_generator, \n",
    "                    validation_steps=validation_steps, \n",
    "                    class_weight=None, \n",
    "                    workers=1, \n",
    "                    initial_epoch=0)"
   ]
  },
  {
   "cell_type": "markdown",
   "metadata": {},
   "source": [
    "# Conv3D + Augmentation\n",
    "Aim is to generate more data through applying random transformations. Here, random contrast and Zoom is introduced along with slight rotation."
   ]
  },
  {
   "cell_type": "code",
   "execution_count": 27,
   "metadata": {},
   "outputs": [],
   "source": [
    "from tensorflow.keras import layers\n",
    "\n",
    "data_augmentation = tf.keras.Sequential(\n",
    "  [\n",
    "    layers.experimental.preprocessing.RandomContrast(factor=0.2),\n",
    "    layers.experimental.preprocessing.RandomZoom(0.2)\n",
    "  ]\n",
    ")"
   ]
  },
  {
   "cell_type": "code",
   "execution_count": 30,
   "metadata": {},
   "outputs": [],
   "source": [
    "model = Sequential()\n",
    "data_augmentation\n",
    "model.add(Conv3D(64, (3,3,3), strides=(1,1,1), padding='same', input_shape=(15,84,84,3)))\n",
    "model.add(Activation('relu'))\n",
    "model.add(BatchNormalization())\n",
    "model.add(MaxPooling3D(pool_size=(2, 2, 2), strides=(2,2,2)))\n",
    "\n",
    "model.add(Conv3D(32, (2, 2, 2), padding='same'))\n",
    "model.add(Activation('relu'))\n",
    "model.add(BatchNormalization())\n",
    "model.add(MaxPooling3D(pool_size=(2, 2, 2), strides=(2,2,2)))\n",
    "\n",
    "model.add(Conv3D(64, (2, 2, 2), padding='same'))\n",
    "model.add(Activation('relu'))\n",
    "model.add(BatchNormalization())\n",
    "model.add(MaxPooling3D(pool_size=(2, 2, 2), strides=(2,2,2)))\n",
    "\n",
    "model.add(Conv3D(128, (2, 2, 2), padding='same'))\n",
    "model.add(Activation('relu'))\n",
    "model.add(BatchNormalization())\n",
    "model.add(MaxPooling3D(pool_size=(1, 1, 1), strides=(1,1,1)))\n",
    "\n",
    "model.add(Flatten())\n",
    "model.add(Dense(128,activation='relu'))\n",
    "model.add(BatchNormalization())\n",
    "model.add(Dropout(0.5))\n",
    "\n",
    "model.add(Dense(64,activation='relu'))\n",
    "model.add(BatchNormalization())\n",
    "model.add(Dropout(0.25))\n",
    "\n",
    "model.add(Dense(5,activation='softmax'))"
   ]
  },
  {
   "cell_type": "code",
   "execution_count": 31,
   "metadata": {},
   "outputs": [
    {
     "name": "stdout",
     "output_type": "stream",
     "text": [
      "Model: \"sequential_8\"\n",
      "_________________________________________________________________\n",
      "Layer (type)                 Output Shape              Param #   \n",
      "=================================================================\n",
      "conv3d_27 (Conv3D)           (None, 15, 84, 84, 64)    5248      \n",
      "_________________________________________________________________\n",
      "activation_27 (Activation)   (None, 15, 84, 84, 64)    0         \n",
      "_________________________________________________________________\n",
      "batch_normalization_33 (Batc (None, 15, 84, 84, 64)    256       \n",
      "_________________________________________________________________\n",
      "max_pooling3d_27 (MaxPooling (None, 7, 42, 42, 64)     0         \n",
      "_________________________________________________________________\n",
      "conv3d_28 (Conv3D)           (None, 7, 42, 42, 32)     16416     \n",
      "_________________________________________________________________\n",
      "activation_28 (Activation)   (None, 7, 42, 42, 32)     0         \n",
      "_________________________________________________________________\n",
      "batch_normalization_34 (Batc (None, 7, 42, 42, 32)     128       \n",
      "_________________________________________________________________\n",
      "max_pooling3d_28 (MaxPooling (None, 3, 21, 21, 32)     0         \n",
      "_________________________________________________________________\n",
      "conv3d_29 (Conv3D)           (None, 3, 21, 21, 64)     16448     \n",
      "_________________________________________________________________\n",
      "activation_29 (Activation)   (None, 3, 21, 21, 64)     0         \n",
      "_________________________________________________________________\n",
      "batch_normalization_35 (Batc (None, 3, 21, 21, 64)     256       \n",
      "_________________________________________________________________\n",
      "max_pooling3d_29 (MaxPooling (None, 1, 10, 10, 64)     0         \n",
      "_________________________________________________________________\n",
      "conv3d_30 (Conv3D)           (None, 1, 10, 10, 128)    65664     \n",
      "_________________________________________________________________\n",
      "activation_30 (Activation)   (None, 1, 10, 10, 128)    0         \n",
      "_________________________________________________________________\n",
      "batch_normalization_36 (Batc (None, 1, 10, 10, 128)    512       \n",
      "_________________________________________________________________\n",
      "max_pooling3d_30 (MaxPooling (None, 1, 10, 10, 128)    0         \n",
      "_________________________________________________________________\n",
      "flatten_5 (Flatten)          (None, 12800)             0         \n",
      "_________________________________________________________________\n",
      "dense_14 (Dense)             (None, 128)               1638528   \n",
      "_________________________________________________________________\n",
      "batch_normalization_37 (Batc (None, 128)               512       \n",
      "_________________________________________________________________\n",
      "dropout_8 (Dropout)          (None, 128)               0         \n",
      "_________________________________________________________________\n",
      "dense_15 (Dense)             (None, 64)                8256      \n",
      "_________________________________________________________________\n",
      "batch_normalization_38 (Batc (None, 64)                256       \n",
      "_________________________________________________________________\n",
      "dropout_9 (Dropout)          (None, 64)                0         \n",
      "_________________________________________________________________\n",
      "dense_16 (Dense)             (None, 5)                 325       \n",
      "=================================================================\n",
      "Total params: 1,752,805\n",
      "Trainable params: 1,751,845\n",
      "Non-trainable params: 960\n",
      "_________________________________________________________________\n"
     ]
    }
   ],
   "source": [
    "model.compile(optimizer='adam', loss='categorical_crossentropy', metrics=['categorical_accuracy'])\n",
    "model.summary() #same model as above"
   ]
  },
  {
   "cell_type": "code",
   "execution_count": 32,
   "metadata": {},
   "outputs": [
    {
     "name": "stdout",
     "output_type": "stream",
     "text": [
      "Epoch 1/20\n",
      "83/83 [==============================] - 65s 771ms/step - loss: 1.7491 - categorical_accuracy: 0.3560 - val_loss: 2.9883 - val_categorical_accuracy: 0.1500\n",
      "\n",
      "Epoch 00001: val_loss did not improve from 0.52515\n",
      "Epoch 2/20\n",
      "83/83 [==============================] - 63s 769ms/step - loss: 1.4555 - categorical_accuracy: 0.4465 - val_loss: 3.0862 - val_categorical_accuracy: 0.1900\n",
      "\n",
      "Epoch 00002: val_loss did not improve from 0.52515\n",
      "Epoch 3/20\n",
      "83/83 [==============================] - 66s 804ms/step - loss: 1.3627 - categorical_accuracy: 0.4691 - val_loss: 4.6071 - val_categorical_accuracy: 0.2100\n",
      "\n",
      "Epoch 00003: val_loss did not improve from 0.52515\n",
      "\n",
      "Epoch 00003: ReduceLROnPlateau reducing learning rate to 0.0005000000237487257.\n",
      "Epoch 4/20\n",
      "83/83 [==============================] - 63s 771ms/step - loss: 1.1444 - categorical_accuracy: 0.5385 - val_loss: 2.7989 - val_categorical_accuracy: 0.2900\n",
      "\n",
      "Epoch 00004: val_loss did not improve from 0.52515\n",
      "Epoch 5/20\n",
      "83/83 [==============================] - 69s 836ms/step - loss: 0.9814 - categorical_accuracy: 0.6033 - val_loss: 2.2367 - val_categorical_accuracy: 0.3500\n",
      "\n",
      "Epoch 00005: val_loss did not improve from 0.52515\n",
      "Epoch 6/20\n",
      "83/83 [==============================] - 73s 894ms/step - loss: 0.9183 - categorical_accuracy: 0.6501 - val_loss: 1.8219 - val_categorical_accuracy: 0.3400\n",
      "\n",
      "Epoch 00006: val_loss did not improve from 0.52515\n",
      "Epoch 7/20\n",
      "83/83 [==============================] - 71s 859ms/step - loss: 0.8332 - categorical_accuracy: 0.6667 - val_loss: 1.1368 - val_categorical_accuracy: 0.6200\n",
      "\n",
      "Epoch 00007: val_loss did not improve from 0.52515\n",
      "Epoch 8/20\n",
      "83/83 [==============================] - 79s 965ms/step - loss: 0.7877 - categorical_accuracy: 0.7104 - val_loss: 1.1968 - val_categorical_accuracy: 0.5600\n",
      "\n",
      "Epoch 00008: val_loss did not improve from 0.52515\n",
      "Epoch 9/20\n",
      "83/83 [==============================] - 69s 840ms/step - loss: 0.6828 - categorical_accuracy: 0.7511 - val_loss: 1.1237 - val_categorical_accuracy: 0.5800\n",
      "\n",
      "Epoch 00009: val_loss did not improve from 0.52515\n",
      "Epoch 10/20\n",
      "83/83 [==============================] - 70s 849ms/step - loss: 0.6585 - categorical_accuracy: 0.7572 - val_loss: 1.1528 - val_categorical_accuracy: 0.5400\n",
      "\n",
      "Epoch 00010: val_loss did not improve from 0.52515\n",
      "Epoch 11/20\n",
      "83/83 [==============================] - 69s 845ms/step - loss: 0.6984 - categorical_accuracy: 0.7300 - val_loss: 0.9557 - val_categorical_accuracy: 0.6800\n",
      "\n",
      "Epoch 00011: val_loss did not improve from 0.52515\n",
      "Epoch 12/20\n",
      "83/83 [==============================] - 68s 831ms/step - loss: 0.6587 - categorical_accuracy: 0.7436 - val_loss: 0.9002 - val_categorical_accuracy: 0.6900\n",
      "\n",
      "Epoch 00012: val_loss did not improve from 0.52515\n",
      "Epoch 13/20\n",
      "83/83 [==============================] - 68s 830ms/step - loss: 0.6927 - categorical_accuracy: 0.7391 - val_loss: 1.6096 - val_categorical_accuracy: 0.4900\n",
      "\n",
      "Epoch 00013: val_loss did not improve from 0.52515\n",
      "Epoch 14/20\n",
      "83/83 [==============================] - 71s 864ms/step - loss: 0.6871 - categorical_accuracy: 0.7376 - val_loss: 0.8082 - val_categorical_accuracy: 0.6900\n",
      "\n",
      "Epoch 00014: val_loss did not improve from 0.52515\n",
      "Epoch 15/20\n",
      "83/83 [==============================] - 68s 826ms/step - loss: 0.5698 - categorical_accuracy: 0.7858 - val_loss: 0.9141 - val_categorical_accuracy: 0.6700\n",
      "\n",
      "Epoch 00015: val_loss did not improve from 0.52515\n",
      "Epoch 16/20\n",
      "83/83 [==============================] - 65s 784ms/step - loss: 0.5856 - categorical_accuracy: 0.7753 - val_loss: 0.9976 - val_categorical_accuracy: 0.6500\n",
      "\n",
      "Epoch 00016: val_loss did not improve from 0.52515\n",
      "\n",
      "Epoch 00016: ReduceLROnPlateau reducing learning rate to 0.0002500000118743628.\n",
      "Epoch 17/20\n",
      "83/83 [==============================] - 69s 837ms/step - loss: 0.4934 - categorical_accuracy: 0.8160 - val_loss: 0.6214 - val_categorical_accuracy: 0.7700\n",
      "\n",
      "Epoch 00017: val_loss did not improve from 0.52515\n",
      "Epoch 18/20\n",
      "83/83 [==============================] - 70s 847ms/step - loss: 0.4079 - categorical_accuracy: 0.8477 - val_loss: 0.5791 - val_categorical_accuracy: 0.7600\n",
      "\n",
      "Epoch 00018: val_loss did not improve from 0.52515\n",
      "Epoch 19/20\n",
      "83/83 [==============================] - 72s 872ms/step - loss: 0.3673 - categorical_accuracy: 0.8718 - val_loss: 0.8748 - val_categorical_accuracy: 0.7000\n",
      "\n",
      "Epoch 00019: val_loss did not improve from 0.52515\n",
      "Epoch 20/20\n",
      "83/83 [==============================] - 70s 848ms/step - loss: 0.3614 - categorical_accuracy: 0.8824 - val_loss: 0.6923 - val_categorical_accuracy: 0.7400\n",
      "\n",
      "Epoch 00020: val_loss did not improve from 0.52515\n",
      "\n",
      "Epoch 00020: ReduceLROnPlateau reducing learning rate to 0.0001250000059371814.\n"
     ]
    }
   ],
   "source": [
    "history = model.fit(train_generator, steps_per_epoch=steps_per_epoch, epochs=num_epochs, verbose=1, \n",
    "                    callbacks=callbacks_list, \n",
    "                    validation_data=val_generator, \n",
    "                    validation_steps=validation_steps, \n",
    "                    class_weight=None, \n",
    "                    workers=1, \n",
    "                    initial_epoch=0)"
   ]
  },
  {
   "cell_type": "code",
   "execution_count": 33,
   "metadata": {},
   "outputs": [
    {
     "data": {
      "image/png": "[encoded data removed]",
      "text/plain": [
       "<Figure size 432x288 with 1 Axes>"
      ]
     },
     "metadata": {
      "needs_background": "light"
     },
     "output_type": "display_data"
    }
   ],
   "source": [
    "import matplotlib.pyplot as plt\n",
    "# Plot history: Categorical crossentropy & Accuracy\n",
    "plt.plot(history.history['loss'], label='Categorical crossentropy (training data)')\n",
    "plt.plot(history.history['val_loss'], label='Categorical crossentropy (validation data)')\n",
    "plt.plot(history.history['categorical_accuracy'], label='Categorical Accuracy (training data)')\n",
    "plt.plot(history.history['val_categorical_accuracy'], label='Categorical Accuracy (validation data)')\n",
    "plt.title('Model performance ')\n",
    "plt.ylabel('Loss value')\n",
    "plt.xlabel('No. epoch')\n",
    "plt.legend(loc=\"upper left\")\n",
    "plt.show()"
   ]
  },
  {
   "cell_type": "code",
   "execution_count": null,
   "metadata": {},
   "outputs": [],
   "source": []
  }
 ],
 "metadata": {
  "kernelspec": {
   "display_name": "Python 3 (ipykernel)",
   "language": "python",
   "name": "python3"
  },
  "language_info": {
   "codemirror_mode": {
    "name": "ipython",
    "version": 3
   },
   "file_extension": ".py",
   "mimetype": "text/x-python",
   "name": "python",
   "nbconvert_exporter": "python",
   "pygments_lexer": "ipython3",
   "version": "3.9.12"
  }
 },
 "nbformat": 4,
 "nbformat_minor": 2
}
